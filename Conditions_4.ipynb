{
 "cells": [
  {
   "cell_type": "code",
   "execution_count": 1,
   "metadata": {},
   "outputs": [
    {
     "name": "stdout",
     "output_type": "stream",
     "text": [
      "X's absolute value greater than Y's absolute value\n"
     ]
    }
   ],
   "source": [
    "# Compare those 2 numbers' absolute values and write X's absolute value greater than Y's absolute value Use abs function to do that\n",
    "# eg. abs(-5) -> 5 abs function makes all numbers positive\n",
    "\n",
    "x = abs(-5)\n",
    "y = abs(-4)\n",
    "\n",
    "if x > y: print(\"X's absolute value greater than Y's absolute value\")\n",
    "elif x < y: print(\"Y's absolute value greater than X's absolute value\")\n",
    "else: print(\"X's absolute value is equal to Y's absolute value\")"
   ]
  }
 ],
 "metadata": {
  "kernelspec": {
   "display_name": "Python 3",
   "language": "python",
   "name": "python3"
  },
  "language_info": {
   "codemirror_mode": {
    "name": "ipython",
    "version": 3
   },
   "file_extension": ".py",
   "mimetype": "text/x-python",
   "name": "python",
   "nbconvert_exporter": "python",
   "pygments_lexer": "ipython3",
   "version": "3.11.4"
  },
  "orig_nbformat": 4
 },
 "nbformat": 4,
 "nbformat_minor": 2
}

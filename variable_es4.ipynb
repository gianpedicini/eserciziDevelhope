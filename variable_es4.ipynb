{
 "cells": [
  {
   "attachments": {},
   "cell_type": "markdown",
   "metadata": {},
   "source": [
    "Using input() to ask the user for their name, age, and city of residence.\n",
    "Using variables to store the user's input and display a sentence about the user.\n",
    "Implementing the upper() and lower() methods to change the case of the variables.\n",
    "Using the len() function to find the length of each string and display it.\n",
    "Create two variables \"first_name\" and \"last_name\" and combine them to form a full name string.\n",
    "Create a variable \"fav_language\" and assign a string value to it. Then, create a sentence that states your favorite programming language.\n",
    "Create a variable \"current_year\" and assign the current year as an integer value. Then, create another variable \"birth_year\" and assign a year of birth as an integer value. Calculate and print the age of the person.\n",
    "Create a variable \"sentence\" and assign a string value to it. Print the number of characters in the sentence."
   ]
  },
  {
   "cell_type": "code",
   "execution_count": null,
   "metadata": {},
   "outputs": [],
   "source": [
    "name=input(\"Inserisci il nome:\")\n",
    "age=input(\"Inserisci la tua età:\")\n",
    "city=input(\"Inserisci la tua città di residenza:\")\n",
    "\n",
    "benvenuto=f\"L'utente che si è registrato si chiama {name}, ha {age} anni ed abita a {city}.\"\n",
    "\n",
    "print(benvenuto)"
   ]
  },
  {
   "cell_type": "code",
   "execution_count": 7,
   "metadata": {},
   "outputs": [
    {
     "data": {
      "text/plain": [
       "\"L'UTENTE CHE SI È REGISTRATO SI CHIAMA GIANLUIGI, HA 26 ANNI ED ABITA A CASERTA.\""
      ]
     },
     "execution_count": 7,
     "metadata": {},
     "output_type": "execute_result"
    }
   ],
   "source": [
    "benvenuto.upper()\n"
   ]
  },
  {
   "cell_type": "code",
   "execution_count": 8,
   "metadata": {},
   "outputs": [
    {
     "data": {
      "text/plain": [
       "\"l'utente che si è registrato si chiama gianluigi, ha 26 anni ed abita a caserta.\""
      ]
     },
     "execution_count": 8,
     "metadata": {},
     "output_type": "execute_result"
    }
   ],
   "source": [
    "benvenuto.lower()"
   ]
  },
  {
   "cell_type": "code",
   "execution_count": 11,
   "metadata": {},
   "outputs": [
    {
     "data": {
      "text/plain": [
       "9"
      ]
     },
     "execution_count": 11,
     "metadata": {},
     "output_type": "execute_result"
    }
   ],
   "source": [
    "len(name)"
   ]
  },
  {
   "cell_type": "code",
   "execution_count": 12,
   "metadata": {},
   "outputs": [
    {
     "data": {
      "text/plain": [
       "2"
      ]
     },
     "execution_count": 12,
     "metadata": {},
     "output_type": "execute_result"
    }
   ],
   "source": [
    "len(age)"
   ]
  },
  {
   "cell_type": "code",
   "execution_count": 13,
   "metadata": {},
   "outputs": [
    {
     "data": {
      "text/plain": [
       "7"
      ]
     },
     "execution_count": 13,
     "metadata": {},
     "output_type": "execute_result"
    }
   ],
   "source": [
    "len(city)"
   ]
  },
  {
   "cell_type": "code",
   "execution_count": 14,
   "metadata": {},
   "outputs": [
    {
     "data": {
      "text/plain": [
       "80"
      ]
     },
     "execution_count": 14,
     "metadata": {},
     "output_type": "execute_result"
    }
   ],
   "source": [
    "len(benvenuto)"
   ]
  },
  {
   "cell_type": "code",
   "execution_count": 15,
   "metadata": {},
   "outputs": [
    {
     "name": "stdout",
     "output_type": "stream",
     "text": [
      "Gianluigi Pedicini\n"
     ]
    }
   ],
   "source": [
    "first_name=\"Gianluigi\"\n",
    "last_name=\"Pedicini\"\n",
    "fullname=first_name +\" \"+last_name\n",
    "\n",
    "print(fullname)"
   ]
  },
  {
   "cell_type": "code",
   "execution_count": 17,
   "metadata": {},
   "outputs": [
    {
     "name": "stdout",
     "output_type": "stream",
     "text": [
      "My favourite programming language is Python\n"
     ]
    }
   ],
   "source": [
    "fav_language=\"Python\"\n",
    "fav_lang_quote= \"My favourite programming language is \" + fav_language\n",
    "\n",
    "print(fav_lang_quote)"
   ]
  },
  {
   "cell_type": "code",
   "execution_count": 18,
   "metadata": {},
   "outputs": [
    {
     "name": "stdout",
     "output_type": "stream",
     "text": [
      "27\n"
     ]
    }
   ],
   "source": [
    "current_year=2023\n",
    "birth_year=1996\n",
    "age= current_year - birth_year\n",
    "\n",
    "print(age)"
   ]
  },
  {
   "cell_type": "code",
   "execution_count": 19,
   "metadata": {},
   "outputs": [
    {
     "name": "stdout",
     "output_type": "stream",
     "text": [
      "14\n"
     ]
    }
   ],
   "source": [
    "sentence=\"frase di prova\"\n",
    "print(len(sentence))"
   ]
  }
 ],
 "metadata": {
  "kernelspec": {
   "display_name": "Python 3",
   "language": "python",
   "name": "python3"
  },
  "language_info": {
   "codemirror_mode": {
    "name": "ipython",
    "version": 3
   },
   "file_extension": ".py",
   "mimetype": "text/x-python",
   "name": "python",
   "nbconvert_exporter": "python",
   "pygments_lexer": "ipython3",
   "version": "3.11.2"
  },
  "orig_nbformat": 4
 },
 "nbformat": 4,
 "nbformat_minor": 2
}

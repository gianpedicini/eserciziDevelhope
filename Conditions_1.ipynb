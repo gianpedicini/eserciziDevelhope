{
 "cells": [
  {
   "cell_type": "code",
   "execution_count": 1,
   "metadata": {},
   "outputs": [
    {
     "name": "stdout",
     "output_type": "stream",
     "text": [
      "335 is greater than 66\n"
     ]
    }
   ],
   "source": [
    "# print if num1 or num2 is greater num1 = 335 num2 = 66\n",
    "\n",
    "num1 = 335\n",
    "num2 = 66\n",
    "\n",
    "# if statement\n",
    "if num1 > num2: print(f\"{num1} is greater than {num2}\")\n",
    "elif num2 > num1: print(f\"{num2} is greater than {num1}\")\n",
    "else: print(f\"{num1} and {num2} are equal\")"
   ]
  }
 ],
 "metadata": {
  "kernelspec": {
   "display_name": "Python 3",
   "language": "python",
   "name": "python3"
  },
  "language_info": {
   "codemirror_mode": {
    "name": "ipython",
    "version": 3
   },
   "file_extension": ".py",
   "mimetype": "text/x-python",
   "name": "python",
   "nbconvert_exporter": "python",
   "pygments_lexer": "ipython3",
   "version": "3.11.4"
  },
  "orig_nbformat": 4
 },
 "nbformat": 4,
 "nbformat_minor": 2
}

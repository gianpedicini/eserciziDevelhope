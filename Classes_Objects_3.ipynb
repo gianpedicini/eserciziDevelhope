{
 "cells": [
  {
   "cell_type": "markdown",
   "metadata": {},
   "source": [
    "Again let's keep talking on Animal class we have.\n",
    "with 3 methods we just reached the number of legs\n",
    "to prevent direct interacting with the class variables\n",
    "most of the other programming languages have encapsulation.\n",
    "But in python we don't have it instead we use _ prefix for it as convention\n",
    "it is also same for the methods\n",
    "\n",
    "_legs this shows us not to touch this variable its up to you if you want to change it you can but _ asks you politely not to do it.\n",
    "\n",
    "Change the number_of_legs to conventional private variable and call from another method"
   ]
  },
  {
   "cell_type": "code",
   "execution_count": 8,
   "metadata": {},
   "outputs": [
    {
     "name": "stdout",
     "output_type": "stream",
     "text": [
      "Animal object was created\n",
      "It has 4 legs\n",
      "Running started\n",
      "Number of legs: 4\n",
      "Number of legs: 4\n"
     ]
    }
   ],
   "source": [
    "class Animal:\n",
    "    def __init__(self,legs_count):\n",
    "        print(\"Animal object was created\")\n",
    "        self.number_of_legs = legs_count\n",
    "\n",
    "    def runs(self):\n",
    "        print(\"Running started\")\n",
    "\n",
    "    def count_legs(self):\n",
    "        print(f\"It has {self.number_of_legs} legs\")\n",
    "\n",
    "    def return_legs(self):\n",
    "        return self.number_of_legs\n",
    "    \n",
    "    def _privatecountlegs (self):\n",
    "        print(f\"Number of legs: {self.number_of_legs}\")\n",
    "        \n",
    "dog=Animal(4)\n",
    "dog.count_legs()\n",
    "dog.runs()\n",
    "\n",
    "print(f\"Number of legs: {dog.number_of_legs}\")\n",
    "\n",
    "dog._privatecountlegs() #we are calling the new method to acces the private variable"
   ]
  }
 ],
 "metadata": {
  "kernelspec": {
   "display_name": "Python 3",
   "language": "python",
   "name": "python3"
  },
  "language_info": {
   "codemirror_mode": {
    "name": "ipython",
    "version": 3
   },
   "file_extension": ".py",
   "mimetype": "text/x-python",
   "name": "python",
   "nbconvert_exporter": "python",
   "pygments_lexer": "ipython3",
   "version": "3.11.4"
  },
  "orig_nbformat": 4
 },
 "nbformat": 4,
 "nbformat_minor": 2
}

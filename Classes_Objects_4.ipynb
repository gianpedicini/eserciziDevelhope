{
 "cells": [
  {
   "cell_type": "markdown",
   "metadata": {},
   "source": [
    "Let's inherit Dog class from Animal add name(private) attribute to Dog class and then bark method to print woof woof\n",
    "\n",
    "print name_of_dog make it bark count the legs"
   ]
  },
  {
   "cell_type": "code",
   "execution_count": 8,
   "metadata": {},
   "outputs": [
    {
     "name": "stdout",
     "output_type": "stream",
     "text": [
      "Animal object was created\n",
      "Woof woof!\n",
      "It has 4 legs\n"
     ]
    }
   ],
   "source": [
    "class Animal:\n",
    "    def __init__(self,legs_count):\n",
    "        print(\"Animal object was created\")\n",
    "        self.number_of_legs = legs_count\n",
    "\n",
    "    def runs(self):\n",
    "        print(\"Running started\")\n",
    "\n",
    "    def count_legs(self):\n",
    "        print(f\"It has {self.number_of_legs} legs\")\n",
    "\n",
    "    def return_legs(self):\n",
    "        return self.number_of_legs\n",
    "    \n",
    "    def _privatecountlegs (self):\n",
    "        print(f\"Number of legs: {self.number_of_legs}\")\n",
    "\n",
    "#Creating a new Dog class from the Animal class\n",
    "       \n",
    "class Dog ( Animal ) :\n",
    "    def __init__ ( self, legs_count, name_of_dog ) :\n",
    "        Animal.__init__ ( self, legs_count )\n",
    "        self._name_of_dog = name_of_dog #defining a new private attribute\n",
    "\n",
    "    def bark ( self ) :\n",
    "        print ( \"Woof woof!\" )\n",
    "\n",
    "    def get_name ( self ):\n",
    "        return self._name_of_dog\n",
    "\n",
    "dog=Dog(4,\"Denis\")\n",
    "dog.bark()\n",
    "dog.get_name()\n",
    "dog.count_legs()"
   ]
  }
 ],
 "metadata": {
  "kernelspec": {
   "display_name": "Python 3",
   "language": "python",
   "name": "python3"
  },
  "language_info": {
   "codemirror_mode": {
    "name": "ipython",
    "version": 3
   },
   "file_extension": ".py",
   "mimetype": "text/x-python",
   "name": "python",
   "nbconvert_exporter": "python",
   "pygments_lexer": "ipython3",
   "version": "3.11.4"
  },
  "orig_nbformat": 4
 },
 "nbformat": 4,
 "nbformat_minor": 2
}

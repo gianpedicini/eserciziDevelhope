{
 "cells": [
  {
   "cell_type": "markdown",
   "metadata": {},
   "source": [
    "Inside the parenthesis variables can be used those variables as known as parameters of the function provides control inside the function example is here\n",
    "\n",
    "def hello(name):\n",
    "    print(f\"hello {name}\")\n",
    "Now you create a function named goodbye with a parameter name and say \"Good bye Adam\""
   ]
  },
  {
   "cell_type": "code",
   "execution_count": 1,
   "metadata": {},
   "outputs": [
    {
     "name": "stdout",
     "output_type": "stream",
     "text": [
      "Good bye Adam\n"
     ]
    }
   ],
   "source": [
    "def goodbye(name):\n",
    "    print(f\"Good bye {name}\")\n",
    "\n",
    "goodbye(\"Adam\")"
   ]
  }
 ],
 "metadata": {
  "kernelspec": {
   "display_name": "Python 3",
   "language": "python",
   "name": "python3"
  },
  "language_info": {
   "codemirror_mode": {
    "name": "ipython",
    "version": 3
   },
   "file_extension": ".py",
   "mimetype": "text/x-python",
   "name": "python",
   "nbconvert_exporter": "python",
   "pygments_lexer": "ipython3",
   "version": "3.11.4"
  },
  "orig_nbformat": 4
 },
 "nbformat": 4,
 "nbformat_minor": 2
}

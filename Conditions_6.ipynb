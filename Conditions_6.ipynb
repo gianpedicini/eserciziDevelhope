{
 "cells": [
  {
   "cell_type": "markdown",
   "metadata": {},
   "source": [
    "Write a python program to input two numbers from the user and check which number is greater. If the first number is greater, print \"First number is greater\". If the second number is greater, print \"Second number is greater\". If both are equal, print \"Both numbers are equal\"."
   ]
  },
  {
   "cell_type": "code",
   "execution_count": 2,
   "metadata": {},
   "outputs": [
    {
     "name": "stdout",
     "output_type": "stream",
     "text": [
      "First number is greater\n"
     ]
    }
   ],
   "source": [
    "numb1=int(input(\"Enter a first number:\"))\n",
    "numb2=int(input(\"Enter a second number:\"))\n",
    "\n",
    "if numb1 > numb2:\n",
    "    print(\"First number is greater\")\n",
    "elif numb2>numb1:\n",
    "    print(\"Second number is greater\")\n",
    "else:\n",
    "    print(\"Both numbers are equal\")"
   ]
  },
  {
   "cell_type": "markdown",
   "metadata": {},
   "source": [
    "Write a python program to find the sum of three numbers and check if it is even or odd. If the sum is even, print \"The sum is even\". If the sum is odd, print \"The sum is odd\"."
   ]
  },
  {
   "cell_type": "code",
   "execution_count": 4,
   "metadata": {},
   "outputs": [
    {
     "name": "stdout",
     "output_type": "stream",
     "text": [
      "The sum is odd\n"
     ]
    }
   ],
   "source": [
    "numb1=int(input(\"Enter a first number:\"))\n",
    "numb2=int(input(\"Enter a second number:\"))\n",
    "numb3=int(input(\"Enter a third number:\"))\n",
    "\n",
    "sum=numb1+numb2+numb3\n",
    "\n",
    "if sum%2==0:\n",
    "    print(\"The sum is even\")\n",
    "else:\n",
    "    print(\"The sum is odd\")"
   ]
  },
  {
   "cell_type": "markdown",
   "metadata": {},
   "source": [
    "Write a python program to check if a year is a leap year or not. If the year is a leap year, print \"The year is a leap year\". If the year is not a leap year, print \"The year is not a leap year\"."
   ]
  },
  {
   "cell_type": "code",
   "execution_count": 5,
   "metadata": {},
   "outputs": [
    {
     "name": "stdout",
     "output_type": "stream",
     "text": [
      "The year is a leap year\n"
     ]
    }
   ],
   "source": [
    "year = 2024\n",
    "\n",
    "if year % 4 == 0:\n",
    "    if year % 100 == 0:\n",
    "        if year % 400 == 0:\n",
    "            print(\"The year is a leap year\") # if the year is divisible by 4, 100 and 400 is a leap year (e.g.: 1600, 2000, 2400)\n",
    "        else: print(\"The year is not a leap year\") # if the year is divisible by 4, 100 and not by 400 is not a leap year (e.g.: 1900, 2100)\n",
    "    else: print(\"The year is a leap year\") # if the year is divisible by 4 and not by 100 is a leap year (e.g.: 2024)\n",
    "else: print(\"The year is not a leap year\") # if the year is not divisible by 4 is not a leap year "
   ]
  }
 ],
 "metadata": {
  "kernelspec": {
   "display_name": "Python 3",
   "language": "python",
   "name": "python3"
  },
  "language_info": {
   "codemirror_mode": {
    "name": "ipython",
    "version": 3
   },
   "file_extension": ".py",
   "mimetype": "text/x-python",
   "name": "python",
   "nbconvert_exporter": "python",
   "pygments_lexer": "ipython3",
   "version": "3.11.4"
  },
  "orig_nbformat": 4
 },
 "nbformat": 4,
 "nbformat_minor": 2
}

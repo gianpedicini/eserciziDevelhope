{
 "cells": [
  {
   "cell_type": "markdown",
   "metadata": {},
   "source": [
    "Create a string variable quote.\n",
    "Use string slicing to extract a specific word from the string (e.g., \"is\" from \"This is a quote.\")\n",
    "Use string methods to change the case of the string (e.g., upper, lower, title).\n",
    "Use string methods to remove specific characters from the string (e.g., replace, strip)\n",
    "Use string formatting to insert a variable into the string (e.g., {})."
   ]
  },
  {
   "cell_type": "code",
   "execution_count": 2,
   "metadata": {},
   "outputs": [
    {
     "name": "stdout",
     "output_type": "stream",
     "text": [
      "This\n"
     ]
    }
   ],
   "source": [
    "#Create a string variable quote.\n",
    "quote=\"This is a quote\"\n",
    "\n",
    "#Use string slicing to extract a specific word from the string \n",
    "#(e.g., \"is\" from \"This is a quote.\")\n",
    "\n",
    "part=quote[0:4]\n",
    "print(part)\n"
   ]
  },
  {
   "cell_type": "code",
   "execution_count": 8,
   "metadata": {},
   "outputs": [
    {
     "name": "stdout",
     "output_type": "stream",
     "text": [
      "THIS IS A QUOTE, this is a quote, This Is A Quote\n"
     ]
    }
   ],
   "source": [
    "# Use string methods to change the case of the string (e.g., upper, lower, title).\n",
    "upperquote= quote.upper()\n",
    "lowerquote= quote.lower()\n",
    "titledquote=quote.title()\n",
    "\n",
    "#we are saving the changes in new variables\n",
    "\n",
    "print(f\"{upperquote}, {lowerquote}, {titledquote}\")"
   ]
  },
  {
   "cell_type": "code",
   "execution_count": 24,
   "metadata": {},
   "outputs": [
    {
     "name": "stdout",
     "output_type": "stream",
     "text": [
      "This is the quote\n",
      "This is another quote\n"
     ]
    }
   ],
   "source": [
    "#Use string methods to remove specific characters from the string (e.g., replace, strip)\n",
    "print(quote.replace(\"a\",\"the\"))\n",
    "#we are not saving the changes, doing so we are temporarily changing the variable\n",
    "\n",
    "anotherquote=\"This is another quote!\"\n",
    "print(anotherquote.strip(\"!\"))\n",
    "\n"
   ]
  },
  {
   "cell_type": "code",
   "execution_count": 25,
   "metadata": {},
   "outputs": [
    {
     "name": "stdout",
     "output_type": "stream",
     "text": [
      "The quote is: This is a quote\n"
     ]
    }
   ],
   "source": [
    "# Use string formatting to insert a variable into the string (e.g., {}).\n",
    "\n",
    "print(f\"The quote is: {quote}\")"
   ]
  }
 ],
 "metadata": {
  "kernelspec": {
   "display_name": "Python 3",
   "language": "python",
   "name": "python3"
  },
  "language_info": {
   "codemirror_mode": {
    "name": "ipython",
    "version": 3
   },
   "file_extension": ".py",
   "mimetype": "text/x-python",
   "name": "python",
   "nbconvert_exporter": "python",
   "pygments_lexer": "ipython3",
   "version": "3.11.4"
  },
  "orig_nbformat": 4
 },
 "nbformat": 4,
 "nbformat_minor": 2
}

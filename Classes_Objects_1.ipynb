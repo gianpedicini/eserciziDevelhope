{
 "cells": [
  {
   "cell_type": "markdown",
   "metadata": {},
   "source": [
    "Let's create Animal class and then create the animal object that runs and having 4 legs\n",
    "\n",
    "create animal object with leg count when created print \"Animal object was created\" and then call runs method of it and it prints \"Running started\""
   ]
  },
  {
   "cell_type": "code",
   "execution_count": 1,
   "metadata": {},
   "outputs": [
    {
     "name": "stdout",
     "output_type": "stream",
     "text": [
      "Animal object was created\n",
      "Running started\n"
     ]
    }
   ],
   "source": [
    "class Animal: #creating the Animal class\n",
    "    def __init__(self, legs):\n",
    "        self.legs=legs\n",
    "        print(\"Animal object was created\")\n",
    "\n",
    "    def runs(self): #creating the \"runs\" method\n",
    "        print(\"Running started\")\n",
    "\n",
    "dog=Animal(4) # we are defining a new object from the Animal class having \"legs\"=4\n",
    "dog.runs() # now we are calling the new object using the runs method"
   ]
  }
 ],
 "metadata": {
  "kernelspec": {
   "display_name": "Python 3",
   "language": "python",
   "name": "python3"
  },
  "language_info": {
   "codemirror_mode": {
    "name": "ipython",
    "version": 3
   },
   "file_extension": ".py",
   "mimetype": "text/x-python",
   "name": "python",
   "nbconvert_exporter": "python",
   "pygments_lexer": "ipython3",
   "version": "3.11.4"
  },
  "orig_nbformat": 4
 },
 "nbformat": 4,
 "nbformat_minor": 2
}

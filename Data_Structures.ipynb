{
 "cells": [
  {
   "cell_type": "markdown",
   "metadata": {},
   "source": [
    "Remember list,set,dictionary are mutable and tuple is immutable list,tuple elements can be reached by index\n",
    "for dictionary it is not an option to reach by index the element key has to be known to reach\n",
    "and for set the items cannot be reached directly but it is possible to iterate.\n",
    "\n",
    "print the lengths of list1,tuple1,set1,dict1\n",
    "print the first element of list1 and tuple1\n",
    "print the value of lion key of dict1\n",
    "change the 2nd position element of list1 to \"rabbit\"\n",
    "try to change the 2nd position element of the tuple to \"rabbit\" and explain what happened.\n",
    "add \"monkey\" to list1\n",
    "remove \"rabbit\" from list1\n",
    "in dict1 the number of feet is written as value to each animal the fixh has wrong value just fix it."
   ]
  },
  {
   "cell_type": "code",
   "execution_count": 3,
   "metadata": {},
   "outputs": [],
   "source": [
    "list1 = [\"lion\", \"monkey\", \"dog\",\"fish\"]\n",
    "tuple1 = (\"lion\", \"monkey\", \"dog\",\"fish\")\n",
    "set1 = {\"lion\", \"monkey\", \"dog\",\"fish\"}\n",
    "dict1 = {\"lion\":4, \"monkey\":2, \"dog\":4,\"fish\":2}"
   ]
  },
  {
   "cell_type": "code",
   "execution_count": 6,
   "metadata": {},
   "outputs": [
    {
     "name": "stdout",
     "output_type": "stream",
     "text": [
      "The length is 4\n",
      "The length is 4\n",
      "The length is 4\n",
      "The length is 4\n"
     ]
    }
   ],
   "source": [
    "print(f\"The length is {len(list1)}\")\n",
    "print(f\"The length is {len(tuple1)}\")\n",
    "print(f\"The length is {len(set1)}\")\n",
    "print(f\"The length is {len(dict1)}\")"
   ]
  },
  {
   "cell_type": "code",
   "execution_count": 7,
   "metadata": {},
   "outputs": [
    {
     "name": "stdout",
     "output_type": "stream",
     "text": [
      "lion\n",
      "lion\n"
     ]
    }
   ],
   "source": [
    "##print the first element of list1 and tuple1\n",
    "print(list1[0])\n",
    "print(tuple1[0])"
   ]
  },
  {
   "cell_type": "code",
   "execution_count": 8,
   "metadata": {},
   "outputs": [
    {
     "name": "stdout",
     "output_type": "stream",
     "text": [
      "4\n"
     ]
    }
   ],
   "source": [
    "##print the value of lion key of dict1\n",
    "print(dict1[\"lion\"])"
   ]
  },
  {
   "cell_type": "code",
   "execution_count": 9,
   "metadata": {},
   "outputs": [
    {
     "name": "stdout",
     "output_type": "stream",
     "text": [
      "['lion', 'rabbit', 'dog', 'fish']\n"
     ]
    }
   ],
   "source": [
    "##change the 2nd position element of list1 to \"rabbit\"\n",
    "list1[1]=\"rabbit\"\n",
    "print(list1)"
   ]
  },
  {
   "cell_type": "code",
   "execution_count": 10,
   "metadata": {},
   "outputs": [
    {
     "ename": "TypeError",
     "evalue": "'tuple' object does not support item assignment",
     "output_type": "error",
     "traceback": [
      "\u001b[0;31m---------------------------------------------------------------------------\u001b[0m",
      "\u001b[0;31mTypeError\u001b[0m                                 Traceback (most recent call last)",
      "Cell \u001b[0;32mIn[10], line 3\u001b[0m\n\u001b[1;32m      1\u001b[0m \u001b[39m##try to change the 2nd position element of the tuple to \"rabbit\" and explain what happened.\u001b[39;00m\n\u001b[0;32m----> 3\u001b[0m tuple1[\u001b[39m1\u001b[39;49m]\u001b[39m=\u001b[39m\u001b[39m\"\u001b[39m\u001b[39mrabbit\u001b[39m\u001b[39m\"\u001b[39m\n\u001b[1;32m      4\u001b[0m \u001b[39mprint\u001b[39m(tuple1)\n",
      "\u001b[0;31mTypeError\u001b[0m: 'tuple' object does not support item assignment"
     ]
    }
   ],
   "source": [
    "#try to change the 2nd position element of the tuple to \"rabbit\" and explain what happened.\n",
    "\n",
    "tuple1[1]=\"rabbit\"\n",
    "print(tuple1)\n",
    "\n",
    "## \" 'tuple' object does not support item assignment \". That's because even if tuples are a sequence of values\n",
    "##  much like a list, they're immutable. "
   ]
  },
  {
   "cell_type": "code",
   "execution_count": 11,
   "metadata": {},
   "outputs": [
    {
     "name": "stdout",
     "output_type": "stream",
     "text": [
      "['lion', 'rabbit', 'dog', 'fish', 'monkey']\n"
     ]
    }
   ],
   "source": [
    "##add \"monkey\" to list1\n",
    "\n",
    "list1.append(\"monkey\")\n",
    "\n",
    "print(list1)"
   ]
  },
  {
   "cell_type": "code",
   "execution_count": 12,
   "metadata": {},
   "outputs": [
    {
     "name": "stdout",
     "output_type": "stream",
     "text": [
      "['lion', 'dog', 'fish', 'monkey']\n"
     ]
    }
   ],
   "source": [
    "##remove \"rabbit\" from list1\n",
    "\n",
    "list1.remove(\"rabbit\")\n",
    "\n",
    "print(list1)"
   ]
  },
  {
   "cell_type": "code",
   "execution_count": 13,
   "metadata": {},
   "outputs": [
    {
     "name": "stdout",
     "output_type": "stream",
     "text": [
      "{'lion': 4, 'monkey': 2, 'dog': 4, 'fish': 0}\n"
     ]
    }
   ],
   "source": [
    "##in dict1 the number of feet is written as value to each animal \n",
    "## the fish has wrong value, just fix it.\n",
    "\n",
    "dict1[\"fish\"] = 0\n",
    "\n",
    "print(dict1)"
   ]
  }
 ],
 "metadata": {
  "kernelspec": {
   "display_name": "Python 3",
   "language": "python",
   "name": "python3"
  },
  "language_info": {
   "codemirror_mode": {
    "name": "ipython",
    "version": 3
   },
   "file_extension": ".py",
   "mimetype": "text/x-python",
   "name": "python",
   "nbconvert_exporter": "python",
   "pygments_lexer": "ipython3",
   "version": "3.11.4"
  },
  "orig_nbformat": 4
 },
 "nbformat": 4,
 "nbformat_minor": 2
}

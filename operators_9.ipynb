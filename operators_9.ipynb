{
 "cells": [
  {
   "cell_type": "markdown",
   "metadata": {},
   "source": [
    "Given two variables a = 3 and b = 4, calculate the integer of dividing b/a."
   ]
  },
  {
   "cell_type": "code",
   "execution_count": 2,
   "metadata": {},
   "outputs": [
    {
     "name": "stdout",
     "output_type": "stream",
     "text": [
      "1\n"
     ]
    }
   ],
   "source": [
    "a=3\n",
    "b=4\n",
    "div=b/a\n",
    "\n",
    "print(int(div))"
   ]
  },
  {
   "cell_type": "markdown",
   "metadata": {},
   "source": [
    "Given two variables a = 3 and b = 4, calculate the reminder of and integer from dividing b/a."
   ]
  },
  {
   "cell_type": "code",
   "execution_count": 6,
   "metadata": {},
   "outputs": [
    {
     "name": "stdout",
     "output_type": "stream",
     "text": [
      "La parte intera di 4/3 è 1 ed il resto della divisione è 1\n"
     ]
    }
   ],
   "source": [
    "a=3\n",
    "b=4\n",
    "reminder=b%a\n",
    "div=b/a\n",
    "\n",
    "print(f\"La parte intera di 4/3 è {int(div)} ed il resto della divisione è {reminder}\")"
   ]
  },
  {
   "cell_type": "markdown",
   "metadata": {},
   "source": [
    "Given a list numbers = [3, 5, 7, 9, 11], calculate and print the sum of all elements in the list."
   ]
  },
  {
   "cell_type": "code",
   "execution_count": 7,
   "metadata": {},
   "outputs": [
    {
     "name": "stdout",
     "output_type": "stream",
     "text": [
      "35\n"
     ]
    }
   ],
   "source": [
    "num=[3,5,7,9,11]\n",
    "somma=sum(num)\n",
    "\n",
    "print(somma)"
   ]
  },
  {
   "cell_type": "markdown",
   "metadata": {},
   "source": [
    "Given a list grades = [83, 85, 72, 63, 95], calculate and print the average grade."
   ]
  },
  {
   "cell_type": "code",
   "execution_count": 10,
   "metadata": {},
   "outputs": [
    {
     "name": "stdout",
     "output_type": "stream",
     "text": [
      "Il voto medio tra quelli presenti è di 79.6\n"
     ]
    }
   ],
   "source": [
    "grades = [83, 85, 72, 63, 95]\n",
    "\n",
    "somma=sum(grades)\n",
    "numero_elementi=len(grades)\n",
    "media=somma/numero_elementi\n",
    "\n",
    "print(f\"Il voto medio tra quelli presenti è di {media}\")"
   ]
  },
  {
   "cell_type": "markdown",
   "metadata": {},
   "source": [
    "Given a list prices = [5, 10, 15, 20, 25], calculate and print the highest and lowest price."
   ]
  },
  {
   "cell_type": "code",
   "execution_count": 12,
   "metadata": {},
   "outputs": [
    {
     "name": "stdout",
     "output_type": "stream",
     "text": [
      "Il prezzo massimo è 25 mentre il prezzo minimo è 5\n"
     ]
    }
   ],
   "source": [
    "prices=[5,10,15,20,25]\n",
    "high_price=max(prices)\n",
    "low_price=min(prices)\n",
    "\n",
    "print(f\"Il prezzo massimo è {high_price} mentre il prezzo minimo è {low_price}\")"
   ]
  }
 ],
 "metadata": {
  "kernelspec": {
   "display_name": "Python 3",
   "language": "python",
   "name": "python3"
  },
  "language_info": {
   "codemirror_mode": {
    "name": "ipython",
    "version": 3
   },
   "file_extension": ".py",
   "mimetype": "text/x-python",
   "name": "python",
   "nbconvert_exporter": "python",
   "pygments_lexer": "ipython3",
   "version": "3.11.4"
  },
  "orig_nbformat": 4
 },
 "nbformat": 4,
 "nbformat_minor": 2
}

{
 "cells": [
  {
   "cell_type": "markdown",
   "metadata": {},
   "source": [
    "Given a string sentence = \"The quick brown fox jumps over the lazy dog.\", calculate and print the number of vowels in the sentence.\n"
   ]
  },
  {
   "cell_type": "code",
   "execution_count": 8,
   "metadata": {},
   "outputs": [
    {
     "name": "stdout",
     "output_type": "stream",
     "text": [
      "Numero vocali presenti nella frase: 11\n"
     ]
    }
   ],
   "source": [
    "sentence = \"The quick brown fox jumps over the lazy dog\"\n",
    "vocali=\"aeiou\"\n",
    "numero_vocali=0\n",
    "\n",
    "for char in sentence.lower():\n",
    "    if char in vocali:\n",
    "        numero_vocali +=1\n",
    "\n",
    "\n",
    "\n",
    "print(f\"Numero vocali presenti nella frase: {numero_vocali}\")\n"
   ]
  },
  {
   "cell_type": "markdown",
   "metadata": {},
   "source": [
    "Given a list numbers = [1, 2, 3, 4, 5, 6, 7, 8, 9, 10], create and print a new list that contains only the odd numbers.\n"
   ]
  },
  {
   "cell_type": "code",
   "execution_count": 5,
   "metadata": {},
   "outputs": [
    {
     "name": "stdout",
     "output_type": "stream",
     "text": [
      "[1, 3, 5, 7, 9]\n"
     ]
    }
   ],
   "source": [
    "numbers=[1,2,3,4,5,6,7,8,9,10]\n",
    "\n",
    "odd_numbers= [num for num in numbers if num % 2 == 1]\n",
    "\n",
    "print(odd_numbers)\n"
   ]
  },
  {
   "cell_type": "markdown",
   "metadata": {},
   "source": [
    "Given a list mixed = [1, \"apple\", 3, \"banana\", 5, \"cherry\"], create and print two separate lists, one containing the numbers and one containing the strings."
   ]
  },
  {
   "cell_type": "code",
   "execution_count": 7,
   "metadata": {},
   "outputs": [
    {
     "name": "stdout",
     "output_type": "stream",
     "text": [
      "Di seguito le rispettive liste, filtrate per tipo. [1, 3, 5], ['apple', 'banana', 'cherry']\n"
     ]
    }
   ],
   "source": [
    "mixed=[1,\"apple\",3,\"banana\",5,\"cherry\"]\n",
    "numbers=[]\n",
    "strings=[]\n",
    "\n",
    "for element in mixed:\n",
    "    if isinstance(element,int):\n",
    "        numbers.append(element)\n",
    "    else: strings.append(element)\n",
    "\n",
    "print(f\"Di seguito le rispettive liste, filtrate per tipo. {numbers}, {strings}\")"
   ]
  }
 ],
 "metadata": {
  "kernelspec": {
   "display_name": "Python 3",
   "language": "python",
   "name": "python3"
  },
  "language_info": {
   "codemirror_mode": {
    "name": "ipython",
    "version": 3
   },
   "file_extension": ".py",
   "mimetype": "text/x-python",
   "name": "python",
   "nbconvert_exporter": "python",
   "pygments_lexer": "ipython3",
   "version": "3.11.4"
  },
  "orig_nbformat": 4
 },
 "nbformat": 4,
 "nbformat_minor": 2
}

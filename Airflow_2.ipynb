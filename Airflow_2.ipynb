{
 "cells": [
  {
   "cell_type": "code",
   "execution_count": 20,
   "metadata": {},
   "outputs": [
    {
     "data": {
      "text/plain": [
       "Timestamp('2023-10-08 12:20:44.989219')"
      ]
     },
     "execution_count": 20,
     "metadata": {},
     "output_type": "execute_result"
    }
   ],
   "source": [
    "from airflow import DAG\n",
    "from airflow.operators.python import PythonOperator\n",
    "from datetime import datetime,timedelta\n",
    "import pandas as pd\n",
    "\n",
    "#defining a function\n",
    "def python_first_function():\n",
    "    print(pd.to_datetime(\"now\"))\n",
    "\n",
    "\n",
    "default_dag_args={\n",
    "    \"start_date\": datetime(2022,1,1),\n",
    "    \"email_on_failure\": False,\n",
    "    \"email_on_retry\": False,\n",
    "    \"retries\":1,\n",
    "    \"retry_delay\": timedelta(minutes=5),\n",
    "    \"project_id\": 1\n",
    "}\n",
    "\n",
    "with DAG(\"First_Python_DAG\", schedule_interval='@daily', default_args=default_dag_args) as dag_python:\n",
    "\n",
    "    t0=PythonOperator(task_id=\"current_datetime\", python_callable=python_first_function)"
   ]
  }
 ],
 "metadata": {
  "kernelspec": {
   "display_name": "Python 3",
   "language": "python",
   "name": "python3"
  },
  "language_info": {
   "codemirror_mode": {
    "name": "ipython",
    "version": 3
   },
   "file_extension": ".py",
   "mimetype": "text/x-python",
   "name": "python",
   "nbconvert_exporter": "python",
   "pygments_lexer": "ipython3",
   "version": "3.11.4"
  },
  "orig_nbformat": 4
 },
 "nbformat": 4,
 "nbformat_minor": 2
}

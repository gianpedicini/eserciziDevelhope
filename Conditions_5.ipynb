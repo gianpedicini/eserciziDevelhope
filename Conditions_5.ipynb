{
 "cells": [
  {
   "cell_type": "markdown",
   "metadata": {},
   "source": [
    "Create a variable called age and assign the value 20 to it. Then write an if statement that prints \"You are a teenager\" if the value of age is less than 18, and \"You are an adult\" if the value of age is equal to or greater than 18."
   ]
  },
  {
   "cell_type": "code",
   "execution_count": 7,
   "metadata": {},
   "outputs": [
    {
     "name": "stdout",
     "output_type": "stream",
     "text": [
      "You are an adult\n"
     ]
    }
   ],
   "source": [
    "age=20\n",
    "\n",
    "if age < 18:\n",
    "    print(\"You are a teenager\")\n",
    "else:\n",
    "    print(\"You are an adult\")"
   ]
  },
  {
   "cell_type": "markdown",
   "metadata": {},
   "source": [
    "Create two variables called name and city. Then write an if statement that prints \"You are from [city]\" if the value of name is equal to \"John\" or \"Jane\", and \"You are not from [city]\" if the value of name is anything else.\n"
   ]
  },
  {
   "cell_type": "code",
   "execution_count": 12,
   "metadata": {},
   "outputs": [
    {
     "name": "stdout",
     "output_type": "stream",
     "text": [
      "You are from Milano\n"
     ]
    }
   ],
   "source": [
    "name=\"John\"\n",
    "city=\"Milano\"\n",
    "\n",
    "if name == \"John\" or name == \"Jane\":\n",
    "    print(f\"You are from {city}\")\n",
    "else:\n",
    "    print(f\"You are not from {city}\")"
   ]
  },
  {
   "cell_type": "markdown",
   "metadata": {},
   "source": [
    "Create a variable called password and assign a value to it. Then write an if statement that checks if the length of password is less than 6 characters. If it is, then print \"The password is too short\". Otherwise, print \"The password is long enough\"."
   ]
  },
  {
   "cell_type": "code",
   "execution_count": 15,
   "metadata": {},
   "outputs": [
    {
     "name": "stdout",
     "output_type": "stream",
     "text": [
      "The password is long enough\n"
     ]
    }
   ],
   "source": [
    "password=\"iuhfwuhifuw\"\n",
    "\n",
    "if len(password)<6:\n",
    "    print(\"The password is too short\")\n",
    "else:\n",
    "    print(\"The password is long enough\")"
   ]
  },
  {
   "cell_type": "markdown",
   "metadata": {},
   "source": [
    "Create a variable called number and assign a value to it. Then write an if statement that checks if number is positive, negative, or zero. If it is positive, print \"The number is positive\". If it is negative, print \"The number is negative\". If it is zero, print \"The number is zero\"."
   ]
  },
  {
   "cell_type": "code",
   "execution_count": 19,
   "metadata": {},
   "outputs": [
    {
     "name": "stdout",
     "output_type": "stream",
     "text": [
      "The number is zero\n"
     ]
    }
   ],
   "source": [
    "number=0\n",
    "\n",
    "if number > 0:\n",
    "    print(\"The number is positive\")\n",
    "elif number < 0:\n",
    "    print(\"The number is negative\")\n",
    "else:\n",
    "    print(\"The number is zero\")"
   ]
  },
  {
   "cell_type": "markdown",
   "metadata": {},
   "source": [
    "Create two variables called x and y. Then write an if statement that prints \"x is greater than y\" if x is greater than y, and \"y is greater than x\" if y is greater than x."
   ]
  },
  {
   "cell_type": "code",
   "execution_count": 23,
   "metadata": {},
   "outputs": [
    {
     "name": "stdout",
     "output_type": "stream",
     "text": [
      "x is greater than y\n"
     ]
    }
   ],
   "source": [
    "x=5\n",
    "y=3\n",
    "\n",
    "if x>y:\n",
    "    print(\"x is greater than y\")\n",
    "elif y>x:\n",
    "    print(\"y is greater then x\")\n",
    "else:\n",
    "    print(\"x is equal to y\")"
   ]
  },
  {
   "cell_type": "markdown",
   "metadata": {},
   "source": [
    "Create two variables called a and b. Then write an if statement that prints \"a is equal to b\" if a is equal to b, and \"a is not equal to"
   ]
  },
  {
   "cell_type": "code",
   "execution_count": 25,
   "metadata": {},
   "outputs": [
    {
     "name": "stdout",
     "output_type": "stream",
     "text": [
      "a is not equal to b\n"
     ]
    }
   ],
   "source": [
    "a=3\n",
    "b=5\n",
    "\n",
    "if a == b:\n",
    "    print(\"a is equal to b\")\n",
    "else:\n",
    "    print(\"a is not equal to b\")\n",
    "\n"
   ]
  }
 ],
 "metadata": {
  "kernelspec": {
   "display_name": "Python 3",
   "language": "python",
   "name": "python3"
  },
  "language_info": {
   "codemirror_mode": {
    "name": "ipython",
    "version": 3
   },
   "file_extension": ".py",
   "mimetype": "text/x-python",
   "name": "python",
   "nbconvert_exporter": "python",
   "pygments_lexer": "ipython3",
   "version": "3.11.4"
  },
  "orig_nbformat": 4
 },
 "nbformat": 4,
 "nbformat_minor": 2
}

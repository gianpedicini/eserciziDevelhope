{
 "cells": [
  {
   "cell_type": "markdown",
   "metadata": {},
   "source": [
    "Import random function\n",
    "Create a function random_list_summer creates n elemented list with min value = -100 max value = 100 it has to print the list first and sum all the elements of it default element number is 15\n",
    "Don't forget to call the function\n",
    "for some features and functions you might have to search on the internet do it don't lose your courage"
   ]
  },
  {
   "cell_type": "code",
   "execution_count": 2,
   "metadata": {},
   "outputs": [
    {
     "name": "stdout",
     "output_type": "stream",
     "text": [
      "Random list: [61, 96, 89, -41, 35, -88, 33, 91, 7, -62, 41, -46, -10, 55, 76]\n",
      "Sum of elements: 337\n"
     ]
    }
   ],
   "source": [
    "import random\n",
    "\n",
    "def random_list_summer(n=15): #function with default parameter n=15\n",
    "\n",
    "    randomlist = [random.randint ( -100, 100 ) for number in range (n)] #generating a random number list within a range of -100:100\n",
    "\n",
    "    print(f\"Random list: {randomlist}\")\n",
    "\n",
    "    list_sum = sum( randomlist ) #sum of the elements of the list\n",
    "    print( \"Sum of elements:\", list_sum )\n",
    "\n",
    "random_list_summer() #calling the function with default parameters\n"
   ]
  }
 ],
 "metadata": {
  "kernelspec": {
   "display_name": "Python 3",
   "language": "python",
   "name": "python3"
  },
  "language_info": {
   "codemirror_mode": {
    "name": "ipython",
    "version": 3
   },
   "file_extension": ".py",
   "mimetype": "text/x-python",
   "name": "python",
   "nbconvert_exporter": "python",
   "pygments_lexer": "ipython3",
   "version": "3.11.4"
  },
  "orig_nbformat": 4
 },
 "nbformat": 4,
 "nbformat_minor": 2
}

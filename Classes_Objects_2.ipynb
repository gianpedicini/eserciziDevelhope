{
 "cells": [
  {
   "cell_type": "markdown",
   "metadata": {},
   "source": [
    "Now continue with the Animal class we had used before\n",
    "Add a method to count the legs count_legs which prints the number of legs\n",
    "Add a method to count the legs return_legs which returns the number of legs\n",
    "print number of legs directly from number_of_legs variable of the object"
   ]
  },
  {
   "cell_type": "code",
   "execution_count": 1,
   "metadata": {},
   "outputs": [
    {
     "name": "stdout",
     "output_type": "stream",
     "text": [
      "Animal object was created\n",
      "Running started\n",
      "Number of legs: 4\n"
     ]
    }
   ],
   "source": [
    "class Animal:\n",
    "    def __init__(self,legs_count):\n",
    "        print(\"Animal object was created\")\n",
    "        self.number_of_legs = legs_count\n",
    "\n",
    "    def runs(self):\n",
    "        print(\"Running started\")\n",
    "\n",
    "    def count_legs(self):\n",
    "        print(f\"It has {self.number_of_legs}\")\n",
    "\n",
    "    def return_legs(self):\n",
    "        return self.number_of_legs\n",
    "\n",
    "dog=Animal(4)\n",
    "dog.runs()\n",
    "\n",
    "print(f\"Number of legs: {dog.number_of_legs}\")\n"
   ]
  }
 ],
 "metadata": {
  "kernelspec": {
   "display_name": "Python 3",
   "language": "python",
   "name": "python3"
  },
  "language_info": {
   "codemirror_mode": {
    "name": "ipython",
    "version": 3
   },
   "file_extension": ".py",
   "mimetype": "text/x-python",
   "name": "python",
   "nbconvert_exporter": "python",
   "pygments_lexer": "ipython3",
   "version": "3.11.4"
  },
  "orig_nbformat": 4
 },
 "nbformat": 4,
 "nbformat_minor": 2
}

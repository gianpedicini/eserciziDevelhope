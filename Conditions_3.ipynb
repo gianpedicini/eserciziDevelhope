{
 "cells": [
  {
   "cell_type": "code",
   "execution_count": 1,
   "metadata": {},
   "outputs": [
    {
     "name": "stdout",
     "output_type": "stream",
     "text": [
      "3 is greater than 2\n"
     ]
    }
   ],
   "source": [
    "# Compare those 2 numbers and write X greater than Y \n",
    "# But be sure you are making the check for all the conditions\n",
    "\n",
    "x = 3\n",
    "y = 2\n",
    "\n",
    "# if statement\n",
    "if x > y: print(f\"{x} is greater than {y}\")\n",
    "elif x < y: print(f\"{x} is smaller than {y}\")\n",
    "else: print(f\"{x} and {y} are equal\")"
   ]
  }
 ],
 "metadata": {
  "kernelspec": {
   "display_name": "Python 3",
   "language": "python",
   "name": "python3"
  },
  "language_info": {
   "codemirror_mode": {
    "name": "ipython",
    "version": 3
   },
   "file_extension": ".py",
   "mimetype": "text/x-python",
   "name": "python",
   "nbconvert_exporter": "python",
   "pygments_lexer": "ipython3",
   "version": "3.11.4"
  },
  "orig_nbformat": 4
 },
 "nbformat": 4,
 "nbformat_minor": 2
}

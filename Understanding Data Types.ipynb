{
 "cells": [
  {
   "cell_type": "markdown",
   "metadata": {},
   "source": [
    "Create variables of different data types (integer, float, string, and boolean)"
   ]
  },
  {
   "cell_type": "code",
   "execution_count": null,
   "metadata": {},
   "outputs": [],
   "source": [
    "integ=1\n",
    "string=\"Ok\"\n",
    "boolean=True\n",
    "float=1.2\n"
   ]
  },
  {
   "cell_type": "markdown",
   "metadata": {},
   "source": [
    "Use the type function to print the type of each variable"
   ]
  },
  {
   "cell_type": "code",
   "execution_count": 4,
   "metadata": {},
   "outputs": [
    {
     "name": "stdout",
     "output_type": "stream",
     "text": [
      "il tipo della variabile integ è: <class 'int'>\n",
      "il tipo della variabile string è: <class 'str'>\n",
      "il tipo della variabile boolean è: <class 'bool'>\n",
      "il tipo della variabile float è : <class 'float'>\n"
     ]
    }
   ],
   "source": [
    "integ=1\n",
    "string=\"Ok\"\n",
    "boolean=True\n",
    "float=1.2\n",
    "\n",
    "print(f\"il tipo della variabile integ è: {type(integ)}\")\n",
    "print(f\"il tipo della variabile string è: {type(string)}\")\n",
    "print(f\"il tipo della variabile boolean è: {type(boolean)}\")\n",
    "print(f\"il tipo della variabile float è : {type(float)}\")\n"
   ]
  },
  {
   "cell_type": "markdown",
   "metadata": {},
   "source": [
    "Observe how the data type affects the output of certain operations, for example: • Adding two integers • Concatenating a string with a float • Comparing a string with a boolean\n"
   ]
  },
  {
   "cell_type": "code",
   "execution_count": 12,
   "metadata": {},
   "outputs": [
    {
     "ename": "TypeError",
     "evalue": "can only concatenate str (not \"bool\") to str",
     "output_type": "error",
     "traceback": [
      "\u001b[0;31m---------------------------------------------------------------------------\u001b[0m",
      "\u001b[0;31mTypeError\u001b[0m                                 Traceback (most recent call last)",
      "Cell \u001b[0;32mIn[12], line 12\u001b[0m\n\u001b[1;32m     10\u001b[0m string\u001b[39m=\u001b[39m\u001b[39m\"\u001b[39m\u001b[39mCiao\u001b[39m\u001b[39m\"\u001b[39m\n\u001b[1;32m     11\u001b[0m boolean1\u001b[39m=\u001b[39m\u001b[39mTrue\u001b[39;00m\n\u001b[0;32m---> 12\u001b[0m string \u001b[39m+\u001b[39;49m boolean1\n",
      "\u001b[0;31mTypeError\u001b[0m: can only concatenate str (not \"bool\") to str"
     ]
    }
   ],
   "source": [
    "num=3 #int\n",
    "num+num ##int. Adding tow integers doesn't effect the type of the operation\n",
    "\n",
    "string=\"ciao\" #string\n",
    "float=1.5 #float\n",
    "\n",
    "#string + float #typeerror: can only concatenare str to str. \n",
    "               #we can resolve this \"forcing\" the type of the float into a string using str()\n",
    "\n",
    "string=\"Ciao\"\n",
    "boolean1=True\n",
    "string + boolean1\n",
    "\n",
    "#typeerror: can only concatenare str to str. \n",
    "# #we can resolve this \"forcing\" the type of the boolean type into a string using str()\n",
    "\n",
    "\n",
    "\n",
    "\n",
    "\n"
   ]
  }
 ],
 "metadata": {
  "kernelspec": {
   "display_name": "Python 3",
   "language": "python",
   "name": "python3"
  },
  "language_info": {
   "codemirror_mode": {
    "name": "ipython",
    "version": 3
   },
   "file_extension": ".py",
   "mimetype": "text/x-python",
   "name": "python",
   "nbconvert_exporter": "python",
   "pygments_lexer": "ipython3",
   "version": "3.11.4"
  },
  "orig_nbformat": 4
 },
 "nbformat": 4,
 "nbformat_minor": 2
}

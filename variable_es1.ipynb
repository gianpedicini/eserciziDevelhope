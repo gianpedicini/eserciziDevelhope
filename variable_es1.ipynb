{
 "cells": [
  {
   "attachments": {},
   "cell_type": "markdown",
   "metadata": {},
   "source": [
    "You have the variable a that is the sentence “Laura and tom went ON a long walk.” Apply the following changes:\n",
    "\n",
    "1- Lowercase the word “ON”\n",
    "2- Capitalize the name “tom”\n",
    "3- Uppercase the word “long”\n",
    "4- Change the letter “a” with “o” in the word “walk” using the appropriate python method.\n",
    "5- Now print the modified sentence.\n",
    "6- Use the appropriate python method to create separate strings out of each word in the new sentence."
   ]
  },
  {
   "cell_type": "code",
   "execution_count": 55,
   "metadata": {},
   "outputs": [
    {
     "data": {
      "text/plain": [
       "['Laura', 'and', 'Tom', 'went', 'on', 'a', 'LONG', 'wolk']"
      ]
     },
     "execution_count": 55,
     "metadata": {},
     "output_type": "execute_result"
    }
   ],
   "source": [
    "a = \"Laura and tom went ON a long walk\"\n",
    "\n",
    "a= a.replace(\"ON\",(a[19:21]).lower()).replace(\"tom\",(a[10:13]).capitalize()).replace(\"long\",(a[24:28]).upper()).replace(\"walk\",((a[-4:]).replace(\"a\",\"o\")))\n",
    "\n",
    "##a=a[-5:].replace(\"a\",\"o\")\n",
    "\n",
    "a.split()\n"
   ]
  },
  {
   "cell_type": "code",
   "execution_count": null,
   "metadata": {},
   "outputs": [],
   "source": []
  }
 ],
 "metadata": {
  "kernelspec": {
   "display_name": "Python 3",
   "language": "python",
   "name": "python3"
  },
  "language_info": {
   "codemirror_mode": {
    "name": "ipython",
    "version": 3
   },
   "file_extension": ".py",
   "mimetype": "text/x-python",
   "name": "python",
   "nbconvert_exporter": "python",
   "pygments_lexer": "ipython3",
   "version": "3.11.2"
  },
  "orig_nbformat": 4
 },
 "nbformat": 4,
 "nbformat_minor": 2
}

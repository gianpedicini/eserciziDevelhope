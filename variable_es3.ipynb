{
 "cells": [
  {
   "attachments": {},
   "cell_type": "markdown",
   "metadata": {},
   "source": [
    "Creating variables for your name, age, and city of residence.\n",
    "Using string concatenation to display a sentence about yourself using the above variables.\n",
    "Modifying the variables to add a title (Mr. or Ms.) in front of your name.\n",
    "Using the string format method to display the same sentence as in exercise 2.\n",
    "Create a variable called \"name\" and assign a string value to it and “age\" and assign an integer value to it, and Create a variable called \"height\" and assign a floating point value to it, and Create a variable called \"is_student\" and assign a boolean value to it.\n",
    "Print the type of each of variables from exercise 5 using format method or f string."
   ]
  },
  {
   "cell_type": "code",
   "execution_count": 7,
   "metadata": {},
   "outputs": [
    {
     "name": "stdout",
     "output_type": "stream",
     "text": [
      "Mi chiamo Gianluigi ed ho 26 anni. Abito a Caserta.\n"
     ]
    }
   ],
   "source": [
    "#string concat\n",
    "name=\"Gianluigi\"\n",
    "age=26\n",
    "city=\"Caserta\"\n",
    "\n",
    "frase=\"Mi chiamo \" + name + \" ed ho \" + str(age) + \" anni. Abito a \"+ city + \".\"\n",
    "\n",
    "print(frase)"
   ]
  },
  {
   "cell_type": "code",
   "execution_count": null,
   "metadata": {},
   "outputs": [],
   "source": [
    "#Mr + name\n",
    "\n",
    "name= \"Mr\" + name"
   ]
  },
  {
   "cell_type": "code",
   "execution_count": 8,
   "metadata": {},
   "outputs": [
    {
     "name": "stdout",
     "output_type": "stream",
     "text": [
      "Mi chiamo Gianluigi ed ho 26 anni. Abito a Caserta.\n"
     ]
    }
   ],
   "source": [
    "#string format method\n",
    "frase= f\"Mi chiamo {name} ed ho {age} anni. Abito a {city}.\"\n",
    "\n",
    "print(frase)"
   ]
  },
  {
   "cell_type": "code",
   "execution_count": null,
   "metadata": {},
   "outputs": [],
   "source": [
    "#creating variables\n",
    "name=\"Gianni\"\n",
    "age=26\n",
    "height=1.83\n",
    "is_student=True\n"
   ]
  },
  {
   "cell_type": "code",
   "execution_count": 9,
   "metadata": {},
   "outputs": [
    {
     "name": "stdout",
     "output_type": "stream",
     "text": [
      "Name è di tipo <class 'str'>\n",
      "Age è di tipo <class 'int'>\n",
      "Height è di tipo <class 'float'>\n",
      "is_student è di tipo <class 'bool'>\n"
     ]
    }
   ],
   "source": [
    "#printing types\n",
    "name=\"Gianni\"\n",
    "age=26\n",
    "height=1.83\n",
    "is_student=True\n",
    "print(f\"Name è di tipo {type(name)}\")\n",
    "print(f\"Age è di tipo {type(age)}\")\n",
    "print(f\"Height è di tipo {type(height)}\")\n",
    "print(f\"is_student è di tipo {type(is_student)}\")"
   ]
  }
 ],
 "metadata": {
  "kernelspec": {
   "display_name": "Python 3",
   "language": "python",
   "name": "python3"
  },
  "language_info": {
   "codemirror_mode": {
    "name": "ipython",
    "version": 3
   },
   "file_extension": ".py",
   "mimetype": "text/x-python",
   "name": "python",
   "nbconvert_exporter": "python",
   "pygments_lexer": "ipython3",
   "version": "3.11.2"
  },
  "orig_nbformat": 4
 },
 "nbformat": 4,
 "nbformat_minor": 2
}

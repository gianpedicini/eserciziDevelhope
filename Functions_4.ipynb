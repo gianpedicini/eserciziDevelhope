{
 "cells": [
  {
   "cell_type": "markdown",
   "metadata": {},
   "source": [
    "Now create a function for John Doe and his family that greets every one in the family.\n",
    "Since it will usually John Doe the name and surname parameter must be defaulted\n",
    "and when someone else comes it has to greet the new comer with name surname parameters which were overwritten. Make it possible.\n",
    "The function have to print \"Hello John Doe\" where John and Doe is parametric\n",
    "Greet each our John first then the people in the list with for loop and the function\n",
    "What you have to use\n",
    "\n",
    "for loop\n",
    "function\n",
    "string operation\n",
    "list index\n",
    "\n",
    "Hello John Doe!\n",
    "Hello Tristram Mcbride!\n",
    "Hello Baldwin Preston!\n",
    "Hello Wally Collins!"
   ]
  },
  {
   "cell_type": "code",
   "execution_count": 13,
   "metadata": {},
   "outputs": [
    {
     "name": "stdout",
     "output_type": "stream",
     "text": [
      "Hello John Doe!\n"
     ]
    }
   ],
   "source": [
    "def greetings ( name = 'John', lastname = 'Doe' ): #function greetings with name and lastname as parameters defaulted as \"John\" \"Doe\"\n",
    "\n",
    "    print(f\"Hello {name} {lastname}!\")\n",
    "\n",
    "#creating a list containing the family members\n",
    "family = [ \"John Doe\", \"Tristram Mcbride\", \"Baldwin Preston\", \"Wally Collins\" ]\n",
    "\n",
    "for member in family: #creating a loop through all the members in the family list\n",
    "    name, lastname = member.split() #using split method saving the name and lastname of each member into different variables \n",
    "    greetings ( name, lastname ) \n",
    "\n",
    "\n",
    "\n"
   ]
  }
 ],
 "metadata": {
  "kernelspec": {
   "display_name": "Python 3",
   "language": "python",
   "name": "python3"
  },
  "language_info": {
   "codemirror_mode": {
    "name": "ipython",
    "version": 3
   },
   "file_extension": ".py",
   "mimetype": "text/x-python",
   "name": "python",
   "nbconvert_exporter": "python",
   "pygments_lexer": "ipython3",
   "version": "3.11.4"
  },
  "orig_nbformat": 4
 },
 "nbformat": 4,
 "nbformat_minor": 2
}

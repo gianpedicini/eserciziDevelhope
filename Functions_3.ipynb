{
 "cells": [
  {
   "cell_type": "markdown",
   "metadata": {},
   "source": [
    "Let's see what is your user name on your computer\n",
    "to do that we are going to use os module which is a built in module in python\n",
    "and has many built in functions in it\n",
    "\n",
    "to be able to use os functions\n",
    "import os then call getlogin method of the module\n",
    "then assign the output to user variable and print the user"
   ]
  },
  {
   "cell_type": "code",
   "execution_count": 1,
   "metadata": {},
   "outputs": [
    {
     "name": "stdout",
     "output_type": "stream",
     "text": [
      "root\n"
     ]
    }
   ],
   "source": [
    "import os  \n",
    "\n",
    "#getlogin method from the os module\n",
    "user = os.getlogin()\n",
    "\n",
    "print(user)\n",
    "\n"
   ]
  }
 ],
 "metadata": {
  "kernelspec": {
   "display_name": "Python 3",
   "language": "python",
   "name": "python3"
  },
  "language_info": {
   "codemirror_mode": {
    "name": "ipython",
    "version": 3
   },
   "file_extension": ".py",
   "mimetype": "text/x-python",
   "name": "python",
   "nbconvert_exporter": "python",
   "pygments_lexer": "ipython3",
   "version": "3.11.4"
  },
  "orig_nbformat": 4
 },
 "nbformat": 4,
 "nbformat_minor": 2
}

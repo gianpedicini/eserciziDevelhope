{
 "cells": [
  {
   "cell_type": "markdown",
   "metadata": {},
   "source": [
    "Create a lambda function that returns 2nd power of given number if its even\n",
    "and run it on the given list\n",
    "then print the result to the screen"
   ]
  },
  {
   "cell_type": "code",
   "execution_count": 6,
   "metadata": {},
   "outputs": [
    {
     "name": "stdout",
     "output_type": "stream",
     "text": [
      "[0, 1, 2, 3, 4]\n",
      "[0, 1, 4, 3, 16]\n"
     ]
    }
   ],
   "source": [
    "my_list= [*range(5)] \n",
    "\n",
    "print(my_list) #starting list\n",
    "\n",
    "#lambda function\n",
    "\n",
    "sq_evennumb= lambda number:number **2 if number %2 == 0 else number #setting lambda function \n",
    "list= [ sq_evennumb(num) for num in my_list ]\n",
    "\n",
    "print(list) #squared list "
   ]
  }
 ],
 "metadata": {
  "kernelspec": {
   "display_name": "Python 3",
   "language": "python",
   "name": "python3"
  },
  "language_info": {
   "codemirror_mode": {
    "name": "ipython",
    "version": 3
   },
   "file_extension": ".py",
   "mimetype": "text/x-python",
   "name": "python",
   "nbconvert_exporter": "python",
   "pygments_lexer": "ipython3",
   "version": "3.11.4"
  },
  "orig_nbformat": 4
 },
 "nbformat": 4,
 "nbformat_minor": 2
}

{
 "cells": [
  {
   "cell_type": "markdown",
   "metadata": {},
   "source": [
    "Implement Fibonacci sequence as recursive function and print first 5 elements.\n",
    "\n",
    "use list comprehension while creating the list minimum element is 0 in this series"
   ]
  },
  {
   "cell_type": "code",
   "execution_count": 5,
   "metadata": {},
   "outputs": [
    {
     "name": "stdout",
     "output_type": "stream",
     "text": [
      "[0, 1, 1, 2, 3, 5, 8]\n"
     ]
    }
   ],
   "source": [
    "def fib ( n ):  #the \"n\" parameter indicates the number of elements in the Fibonacci sequence\n",
    "    \n",
    "    if n <= 1 : #base case\n",
    "        return n\n",
    "    \n",
    "    else :\n",
    "        return fib ( n - 1 ) + fib ( n - 2 ) # calculating the number in Fibonacci sequence with the recursive case of the Fibonacci function\n",
    "\n",
    "# Using list comprehension for generating a list containing the 'n'( =7 ) numbers of the Fibonacci sequence\n",
    "fib_seq = [ fib ( i ) for i in range(7)]\n",
    "# Printing the generated list\n",
    "print(fib_seq)"
   ]
  }
 ],
 "metadata": {
  "kernelspec": {
   "display_name": "Python 3",
   "language": "python",
   "name": "python3"
  },
  "language_info": {
   "codemirror_mode": {
    "name": "ipython",
    "version": 3
   },
   "file_extension": ".py",
   "mimetype": "text/x-python",
   "name": "python",
   "nbconvert_exporter": "python",
   "pygments_lexer": "ipython3",
   "version": "3.11.4"
  },
  "orig_nbformat": 4
 },
 "nbformat": 4,
 "nbformat_minor": 2
}

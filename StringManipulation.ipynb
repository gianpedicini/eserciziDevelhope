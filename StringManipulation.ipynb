{
 "cells": [
  {
   "cell_type": "markdown",
   "metadata": {},
   "source": [
    "Create a string variable name\n",
    "Use string indexing to extract the first and last characters of the string.\n",
    "Use string slicing to extract the middle part of the string (e.g., \"middle\" from \"beginningmiddleend\").\n",
    "Concatenate two strings to create a new string.\n",
    "Use the len function to find the length of the string."
   ]
  },
  {
   "cell_type": "code",
   "execution_count": 2,
   "metadata": {},
   "outputs": [],
   "source": [
    "#Create string variable \"name\"\n",
    "name= \"Gianluigi\""
   ]
  },
  {
   "cell_type": "code",
   "execution_count": 4,
   "metadata": {},
   "outputs": [
    {
     "name": "stdout",
     "output_type": "stream",
     "text": [
      "G\n",
      "i\n"
     ]
    }
   ],
   "source": [
    "#Use string indexing to extract first and last characters of the string\n",
    "first_char= name[0]\n",
    "last_char= name[-1]\n",
    "\n",
    "print(first_char)\n",
    "print(last_char)"
   ]
  },
  {
   "cell_type": "code",
   "execution_count": 10,
   "metadata": {},
   "outputs": [
    {
     "name": "stdout",
     "output_type": "stream",
     "text": [
      "The middle part of Gianluigi is nlu!\n"
     ]
    }
   ],
   "source": [
    "#Use string slicing to extract the middle part of the string \n",
    "#(e.g., \"middle\" from \"beginningmiddleend\").\n",
    "\n",
    "midpart= name[3:6]\n",
    "\n",
    "print(f\"The middle part of {name} is {midpart}!\")"
   ]
  },
  {
   "cell_type": "code",
   "execution_count": 11,
   "metadata": {},
   "outputs": [
    {
     "name": "stdout",
     "output_type": "stream",
     "text": [
      "GianluigiPedicini\n"
     ]
    }
   ],
   "source": [
    "#Concatenate two strings to create a new string.\n",
    "last_name=\"Pedicini\"\n",
    "\n",
    "fullname=name+last_name\n",
    "\n",
    "print(fullname)\n",
    "\n"
   ]
  },
  {
   "cell_type": "code",
   "execution_count": 12,
   "metadata": {},
   "outputs": [
    {
     "name": "stdout",
     "output_type": "stream",
     "text": [
      "17\n"
     ]
    }
   ],
   "source": [
    "#Use the len function to find the length of the string.\n",
    "\n",
    "print(len(fullname))"
   ]
  }
 ],
 "metadata": {
  "kernelspec": {
   "display_name": "Python 3",
   "language": "python",
   "name": "python3"
  },
  "language_info": {
   "codemirror_mode": {
    "name": "ipython",
    "version": 3
   },
   "file_extension": ".py",
   "mimetype": "text/x-python",
   "name": "python",
   "nbconvert_exporter": "python",
   "pygments_lexer": "ipython3",
   "version": "3.11.4"
  },
  "orig_nbformat": 4
 },
 "nbformat": 4,
 "nbformat_minor": 2
}

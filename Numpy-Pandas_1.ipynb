{
 "cells": [
  {
   "cell_type": "markdown",
   "id": "43103ef9",
   "metadata": {},
   "source": [
    "# Learning Numpy"
   ]
  },
  {
   "cell_type": "code",
   "execution_count": 40,
   "id": "f04141eb",
   "metadata": {},
   "outputs": [],
   "source": [
    "import numpy as np "
   ]
  },
  {
   "cell_type": "markdown",
   "id": "eb3a7efd",
   "metadata": {},
   "source": [
    "### Creating Arrays"
   ]
  },
  {
   "cell_type": "markdown",
   "id": "6be7fddb",
   "metadata": {},
   "source": [
    "<strong><ins>All arrays mentioned here are numpy arrays as long as opposite is not mentioned</ins></strong> please solve the problems with this knowledge."
   ]
  },
  {
   "cell_type": "markdown",
   "id": "471f6974",
   "metadata": {},
   "source": [
    "Create an array in size of 4*3 and assing it to arr variable "
   ]
  },
  {
   "cell_type": "code",
   "execution_count": 41,
   "id": "12801da8",
   "metadata": {},
   "outputs": [],
   "source": [
    "arr = np.zeros((4,3))"
   ]
  },
  {
   "cell_type": "markdown",
   "id": "c82af80c",
   "metadata": {},
   "source": [
    "Create an array with elements from 0 to 15 (both inclusive) and assing it to arr2 variable   \n",
    "Then print the shape of the arr2  \n",
    "copy the arr2 to arr2_copy  \n",
    "print arr2, arr2_copy   \n",
    "Change its shape to 4*4 and assign to itself   \n",
    "print arr2, arr2_copy again    "
   ]
  },
  {
   "cell_type": "code",
   "execution_count": 42,
   "id": "dd0fad30",
   "metadata": {},
   "outputs": [],
   "source": [
    "arr2 = np.arange(16)\n",
    "arr2.shape\n",
    "arr2_copy = arr2.copy()\n",
    "# print(arr2)\n",
    "# print(arr2_copy)\n",
    "# arr2=arr2.reshape((4,4))\n",
    "# print(arr2)\n",
    "# print(arr2_copy)\n"
   ]
  },
  {
   "cell_type": "code",
   "execution_count": 43,
   "id": "14e1498d",
   "metadata": {},
   "outputs": [
    {
     "name": "stdout",
     "output_type": "stream",
     "text": [
      "[ 0  1  2  3  4  5  6  7  8  9 10 11 12 13 14 15]\n"
     ]
    }
   ],
   "source": [
    "print(arr2)"
   ]
  },
  {
   "cell_type": "code",
   "execution_count": 44,
   "id": "7ce3c862",
   "metadata": {},
   "outputs": [
    {
     "name": "stdout",
     "output_type": "stream",
     "text": [
      "[ 0  1  2  3  4  5  6  7  8  9 10 11 12 13 14 15]\n"
     ]
    }
   ],
   "source": [
    "print(arr2_copy)"
   ]
  },
  {
   "cell_type": "code",
   "execution_count": 45,
   "id": "f06405d6",
   "metadata": {},
   "outputs": [],
   "source": [
    "arr2 = arr2.reshape((4,4))"
   ]
  },
  {
   "cell_type": "code",
   "execution_count": 46,
   "id": "b6c7ea2f",
   "metadata": {
    "scrolled": true
   },
   "outputs": [
    {
     "name": "stdout",
     "output_type": "stream",
     "text": [
      "[[ 0  1  2  3]\n",
      " [ 4  5  6  7]\n",
      " [ 8  9 10 11]\n",
      " [12 13 14 15]]\n"
     ]
    }
   ],
   "source": [
    "print(arr2)"
   ]
  },
  {
   "cell_type": "code",
   "execution_count": 47,
   "id": "40172742",
   "metadata": {},
   "outputs": [
    {
     "name": "stdout",
     "output_type": "stream",
     "text": [
      "[ 0  1  2  3  4  5  6  7  8  9 10 11 12 13 14 15]\n"
     ]
    }
   ],
   "source": [
    "print(arr2_copy)"
   ]
  },
  {
   "cell_type": "markdown",
   "id": "5c312718",
   "metadata": {},
   "source": [
    "### Some Functions "
   ]
  },
  {
   "cell_type": "markdown",
   "id": "4a6c4e92",
   "metadata": {},
   "source": [
    "##### How many dimentions there are in arr2 variable? "
   ]
  },
  {
   "cell_type": "code",
   "execution_count": 48,
   "id": "03c9544c",
   "metadata": {},
   "outputs": [
    {
     "data": {
      "text/plain": [
       "2"
      ]
     },
     "execution_count": 48,
     "metadata": {},
     "output_type": "execute_result"
    }
   ],
   "source": [
    "arr2.ndim"
   ]
  },
  {
   "cell_type": "markdown",
   "id": "0d24dc16",
   "metadata": {},
   "source": [
    "##### Describe the number of rows and columns in arr2 variable "
   ]
  },
  {
   "cell_type": "code",
   "execution_count": 49,
   "id": "e4c71e21",
   "metadata": {},
   "outputs": [
    {
     "data": {
      "text/plain": [
       "(4, 4)"
      ]
     },
     "execution_count": 49,
     "metadata": {},
     "output_type": "execute_result"
    }
   ],
   "source": [
    "arr2.shape"
   ]
  },
  {
   "cell_type": "markdown",
   "id": "fb0109ad",
   "metadata": {},
   "source": [
    "##### How many elements there are in arr2 variable?"
   ]
  },
  {
   "cell_type": "code",
   "execution_count": 50,
   "id": "4f12ea1a",
   "metadata": {},
   "outputs": [
    {
     "data": {
      "text/plain": [
       "16"
      ]
     },
     "execution_count": 50,
     "metadata": {},
     "output_type": "execute_result"
    }
   ],
   "source": [
    "arr2.size"
   ]
  },
  {
   "cell_type": "markdown",
   "id": "3fb5ef4e",
   "metadata": {},
   "source": [
    "##### Print the data type of arr2"
   ]
  },
  {
   "cell_type": "code",
   "execution_count": 51,
   "id": "a1e76cbb",
   "metadata": {},
   "outputs": [
    {
     "data": {
      "text/plain": [
       "dtype('int64')"
      ]
     },
     "execution_count": 51,
     "metadata": {},
     "output_type": "execute_result"
    }
   ],
   "source": [
    "arr2.dtype"
   ]
  },
  {
   "cell_type": "markdown",
   "id": "3d6dc446",
   "metadata": {},
   "source": [
    "#### Print the data location in the memory"
   ]
  },
  {
   "cell_type": "code",
   "execution_count": 52,
   "id": "b480c54e",
   "metadata": {},
   "outputs": [
    {
     "data": {
      "text/plain": [
       "<memory at 0x15392e8e0>"
      ]
     },
     "execution_count": 52,
     "metadata": {},
     "output_type": "execute_result"
    }
   ],
   "source": [
    "arr2.data"
   ]
  },
  {
   "cell_type": "markdown",
   "id": "f50930f0",
   "metadata": {},
   "source": [
    "### Some Statistics About the Arrays"
   ]
  },
  {
   "cell_type": "markdown",
   "id": "e2bd3bf5",
   "metadata": {},
   "source": [
    "#### Show 50th percentile of arr2"
   ]
  },
  {
   "cell_type": "code",
   "execution_count": 53,
   "id": "cf2ff1b6",
   "metadata": {},
   "outputs": [
    {
     "data": {
      "text/plain": [
       "7.5"
      ]
     },
     "execution_count": 53,
     "metadata": {},
     "output_type": "execute_result"
    }
   ],
   "source": [
    "np.percentile(arr2,50)"
   ]
  },
  {
   "cell_type": "markdown",
   "id": "b94b76aa",
   "metadata": {},
   "source": [
    "#### Show mean of arr2 elements"
   ]
  },
  {
   "cell_type": "code",
   "execution_count": 54,
   "id": "26ebc870",
   "metadata": {},
   "outputs": [
    {
     "data": {
      "text/plain": [
       "7.5"
      ]
     },
     "execution_count": 54,
     "metadata": {},
     "output_type": "execute_result"
    }
   ],
   "source": [
    "np.mean(arr2)"
   ]
  },
  {
   "cell_type": "markdown",
   "id": "1ab10d37",
   "metadata": {},
   "source": [
    "#### Show median of arr2 elements"
   ]
  },
  {
   "cell_type": "code",
   "execution_count": 55,
   "id": "973b1ff7",
   "metadata": {},
   "outputs": [
    {
     "data": {
      "text/plain": [
       "7.5"
      ]
     },
     "execution_count": 55,
     "metadata": {},
     "output_type": "execute_result"
    }
   ],
   "source": [
    "np.median(arr2)"
   ]
  },
  {
   "cell_type": "markdown",
   "id": "7040730d",
   "metadata": {},
   "source": [
    "##### Create one dimensional normally distrubuted array with mean 3 standard deviation is 4 and has elements of 100"
   ]
  },
  {
   "cell_type": "code",
   "execution_count": 56,
   "id": "23bb52de",
   "metadata": {},
   "outputs": [],
   "source": [
    "from numpy import random"
   ]
  },
  {
   "cell_type": "code",
   "execution_count": 71,
   "id": "5e246a9f",
   "metadata": {},
   "outputs": [
    {
     "data": {
      "text/plain": [
       "array([ 7.06765245,  6.91146346,  1.54828339,  3.2549131 ,  7.13993291,\n",
       "        0.10059132,  9.19385292,  6.44275751,  3.19761131,  1.81766838,\n",
       "        0.6335048 , -1.2519932 , -2.09956901,  5.70270941,  1.98727188,\n",
       "        6.41975976,  6.47754113,  4.53287042,  0.63682609,  4.26827127,\n",
       "        2.13143323, 11.96966888,  0.45229278,  8.98502066,  6.31128054,\n",
       "        4.4766228 , -5.84886164,  3.99828892, -2.41687798,  8.31939107,\n",
       "        1.33201672,  7.02497805,  5.17086466, -0.38464568, -3.52750939,\n",
       "        2.96053398, -8.864075  ,  3.2924611 ,  2.55960945,  5.68215251,\n",
       "        8.82023234,  4.90143904,  4.93118251,  1.73197315,  0.69276859,\n",
       "        0.95572219, -1.08507189,  2.38839481, 12.23795928,  2.00321677,\n",
       "       -0.56050393,  3.76914851,  1.92789818,  0.81135172,  7.36527516,\n",
       "        3.91502548,  3.75249208,  4.10482068,  1.57390633,  3.63472502,\n",
       "        4.91099252,  2.56136425,  2.72670145,  2.92877087,  1.0866985 ,\n",
       "        4.91900033,  5.6294579 ,  5.58376909,  6.25290262,  0.15498665,\n",
       "        8.00407481, -5.73675585, -1.07223498, -3.63182566,  7.5237819 ,\n",
       "        4.6946283 ,  2.05701403, 11.99456672,  4.2926018 ,  3.62934031,\n",
       "        4.53364587,  5.95737905,  0.51331853, -5.71825525, -0.63431086,\n",
       "        0.33210665,  3.0970852 ,  4.70377494,  4.22059279,  4.2274502 ,\n",
       "       -2.98220147, -2.71067692,  5.58498482,  0.80982971, -0.08135077,\n",
       "        3.82538694, -1.95840188,  0.09441598, -2.64028072,  6.40457021])"
      ]
     },
     "execution_count": 71,
     "metadata": {},
     "output_type": "execute_result"
    }
   ],
   "source": [
    "s = np.random.normal(loc=3, scale=4, size=100)\n",
    "s"
   ]
  },
  {
   "cell_type": "markdown",
   "id": "5320324e",
   "metadata": {},
   "source": [
    "#### Install matplotlib library for ploting purposes and then plot the s \n",
    "- search to find how to do"
   ]
  },
  {
   "cell_type": "code",
   "execution_count": 70,
   "id": "a8ca4a2e",
   "metadata": {},
   "outputs": [
    {
     "data": {
      "image/png": "[encoded data removed]",
      "text/plain": [
       "<Figure size 640x480 with 1 Axes>"
      ]
     },
     "metadata": {},
     "output_type": "display_data"
    }
   ],
   "source": [
    "import matplotlib.pyplot as plt\n",
    "\n",
    "plt.hist(s, bins=10)\n",
    "\n",
    "plt.title(\"s array distribution\")\n",
    "plt.show()"
   ]
  },
  {
   "cell_type": "markdown",
   "id": "f0ba30ab",
   "metadata": {},
   "source": [
    "____"
   ]
  },
  {
   "cell_type": "markdown",
   "id": "25f032d0",
   "metadata": {},
   "source": [
    "# Learning Pandas"
   ]
  },
  {
   "cell_type": "markdown",
   "id": "d2a96de4",
   "metadata": {},
   "source": [
    "##### Read the airline safety data assign to df variable and print first 5 rows with pandas function"
   ]
  },
  {
   "cell_type": "code",
   "execution_count": 59,
   "id": "d19327ef",
   "metadata": {},
   "outputs": [],
   "source": [
    "import pandas as pd "
   ]
  },
  {
   "cell_type": "code",
   "execution_count": 60,
   "id": "45471ae7",
   "metadata": {},
   "outputs": [],
   "source": [
    "df = pd.read_csv(\"airline-safety.csv\")"
   ]
  },
  {
   "cell_type": "code",
   "execution_count": 61,
   "id": "efb56a58",
   "metadata": {},
   "outputs": [
    {
     "data": {
      "text/html": [
       "<div>\n",
       "<style scoped>\n",
       "    .dataframe tbody tr th:only-of-type {\n",
       "        vertical-align: middle;\n",
       "    }\n",
       "\n",
       "    .dataframe tbody tr th {\n",
       "        vertical-align: top;\n",
       "    }\n",
       "\n",
       "    .dataframe thead th {\n",
       "        text-align: right;\n",
       "    }\n",
       "</style>\n",
       "<table border=\"1\" class=\"dataframe\">\n",
       "  <thead>\n",
       "    <tr style=\"text-align: right;\">\n",
       "      <th></th>\n",
       "      <th>airline</th>\n",
       "      <th>avail_seat_km_per_week</th>\n",
       "      <th>incidents_85_99</th>\n",
       "      <th>fatal_accidents_85_99</th>\n",
       "      <th>fatalities_85_99</th>\n",
       "      <th>incidents_00_14</th>\n",
       "      <th>fatal_accidents_00_14</th>\n",
       "      <th>fatalities_00_14</th>\n",
       "    </tr>\n",
       "  </thead>\n",
       "  <tbody>\n",
       "    <tr>\n",
       "      <th>0</th>\n",
       "      <td>Aer Lingus</td>\n",
       "      <td>320906734</td>\n",
       "      <td>2</td>\n",
       "      <td>0</td>\n",
       "      <td>0</td>\n",
       "      <td>0</td>\n",
       "      <td>0</td>\n",
       "      <td>0</td>\n",
       "    </tr>\n",
       "    <tr>\n",
       "      <th>1</th>\n",
       "      <td>Aeroflot*</td>\n",
       "      <td>1197672318</td>\n",
       "      <td>76</td>\n",
       "      <td>14</td>\n",
       "      <td>128</td>\n",
       "      <td>6</td>\n",
       "      <td>1</td>\n",
       "      <td>88</td>\n",
       "    </tr>\n",
       "    <tr>\n",
       "      <th>2</th>\n",
       "      <td>Aerolineas Argentinas</td>\n",
       "      <td>385803648</td>\n",
       "      <td>6</td>\n",
       "      <td>0</td>\n",
       "      <td>0</td>\n",
       "      <td>1</td>\n",
       "      <td>0</td>\n",
       "      <td>0</td>\n",
       "    </tr>\n",
       "    <tr>\n",
       "      <th>3</th>\n",
       "      <td>Aeromexico*</td>\n",
       "      <td>596871813</td>\n",
       "      <td>3</td>\n",
       "      <td>1</td>\n",
       "      <td>64</td>\n",
       "      <td>5</td>\n",
       "      <td>0</td>\n",
       "      <td>0</td>\n",
       "    </tr>\n",
       "    <tr>\n",
       "      <th>4</th>\n",
       "      <td>Air Canada</td>\n",
       "      <td>1865253802</td>\n",
       "      <td>2</td>\n",
       "      <td>0</td>\n",
       "      <td>0</td>\n",
       "      <td>2</td>\n",
       "      <td>0</td>\n",
       "      <td>0</td>\n",
       "    </tr>\n",
       "  </tbody>\n",
       "</table>\n",
       "</div>"
      ],
      "text/plain": [
       "                 airline  avail_seat_km_per_week  incidents_85_99  \\\n",
       "0             Aer Lingus               320906734                2   \n",
       "1              Aeroflot*              1197672318               76   \n",
       "2  Aerolineas Argentinas               385803648                6   \n",
       "3            Aeromexico*               596871813                3   \n",
       "4             Air Canada              1865253802                2   \n",
       "\n",
       "   fatal_accidents_85_99  fatalities_85_99  incidents_00_14  \\\n",
       "0                      0                 0                0   \n",
       "1                     14               128                6   \n",
       "2                      0                 0                1   \n",
       "3                      1                64                5   \n",
       "4                      0                 0                2   \n",
       "\n",
       "   fatal_accidents_00_14  fatalities_00_14  \n",
       "0                      0                 0  \n",
       "1                      1                88  \n",
       "2                      0                 0  \n",
       "3                      0                 0  \n",
       "4                      0                 0  "
      ]
     },
     "execution_count": 61,
     "metadata": {},
     "output_type": "execute_result"
    }
   ],
   "source": [
    "df.head()"
   ]
  },
  {
   "cell_type": "markdown",
   "id": "4f9a8367",
   "metadata": {},
   "source": [
    "##### print last 5 rows with pandas function"
   ]
  },
  {
   "cell_type": "code",
   "execution_count": 62,
   "id": "7aad0e59",
   "metadata": {},
   "outputs": [
    {
     "data": {
      "text/html": [
       "<div>\n",
       "<style scoped>\n",
       "    .dataframe tbody tr th:only-of-type {\n",
       "        vertical-align: middle;\n",
       "    }\n",
       "\n",
       "    .dataframe tbody tr th {\n",
       "        vertical-align: top;\n",
       "    }\n",
       "\n",
       "    .dataframe thead th {\n",
       "        text-align: right;\n",
       "    }\n",
       "</style>\n",
       "<table border=\"1\" class=\"dataframe\">\n",
       "  <thead>\n",
       "    <tr style=\"text-align: right;\">\n",
       "      <th></th>\n",
       "      <th>airline</th>\n",
       "      <th>avail_seat_km_per_week</th>\n",
       "      <th>incidents_85_99</th>\n",
       "      <th>fatal_accidents_85_99</th>\n",
       "      <th>fatalities_85_99</th>\n",
       "      <th>incidents_00_14</th>\n",
       "      <th>fatal_accidents_00_14</th>\n",
       "      <th>fatalities_00_14</th>\n",
       "    </tr>\n",
       "  </thead>\n",
       "  <tbody>\n",
       "    <tr>\n",
       "      <th>51</th>\n",
       "      <td>United / Continental*</td>\n",
       "      <td>7139291291</td>\n",
       "      <td>19</td>\n",
       "      <td>8</td>\n",
       "      <td>319</td>\n",
       "      <td>14</td>\n",
       "      <td>2</td>\n",
       "      <td>109</td>\n",
       "    </tr>\n",
       "    <tr>\n",
       "      <th>52</th>\n",
       "      <td>US Airways / America West*</td>\n",
       "      <td>2455687887</td>\n",
       "      <td>16</td>\n",
       "      <td>7</td>\n",
       "      <td>224</td>\n",
       "      <td>11</td>\n",
       "      <td>2</td>\n",
       "      <td>23</td>\n",
       "    </tr>\n",
       "    <tr>\n",
       "      <th>53</th>\n",
       "      <td>Vietnam Airlines</td>\n",
       "      <td>625084918</td>\n",
       "      <td>7</td>\n",
       "      <td>3</td>\n",
       "      <td>171</td>\n",
       "      <td>1</td>\n",
       "      <td>0</td>\n",
       "      <td>0</td>\n",
       "    </tr>\n",
       "    <tr>\n",
       "      <th>54</th>\n",
       "      <td>Virgin Atlantic</td>\n",
       "      <td>1005248585</td>\n",
       "      <td>1</td>\n",
       "      <td>0</td>\n",
       "      <td>0</td>\n",
       "      <td>0</td>\n",
       "      <td>0</td>\n",
       "      <td>0</td>\n",
       "    </tr>\n",
       "    <tr>\n",
       "      <th>55</th>\n",
       "      <td>Xiamen Airlines</td>\n",
       "      <td>430462962</td>\n",
       "      <td>9</td>\n",
       "      <td>1</td>\n",
       "      <td>82</td>\n",
       "      <td>2</td>\n",
       "      <td>0</td>\n",
       "      <td>0</td>\n",
       "    </tr>\n",
       "  </tbody>\n",
       "</table>\n",
       "</div>"
      ],
      "text/plain": [
       "                       airline  avail_seat_km_per_week  incidents_85_99  \\\n",
       "51       United / Continental*              7139291291               19   \n",
       "52  US Airways / America West*              2455687887               16   \n",
       "53            Vietnam Airlines               625084918                7   \n",
       "54             Virgin Atlantic              1005248585                1   \n",
       "55             Xiamen Airlines               430462962                9   \n",
       "\n",
       "    fatal_accidents_85_99  fatalities_85_99  incidents_00_14  \\\n",
       "51                      8               319               14   \n",
       "52                      7               224               11   \n",
       "53                      3               171                1   \n",
       "54                      0                 0                0   \n",
       "55                      1                82                2   \n",
       "\n",
       "    fatal_accidents_00_14  fatalities_00_14  \n",
       "51                      2               109  \n",
       "52                      2                23  \n",
       "53                      0                 0  \n",
       "54                      0                 0  \n",
       "55                      0                 0  "
      ]
     },
     "execution_count": 62,
     "metadata": {},
     "output_type": "execute_result"
    }
   ],
   "source": [
    "df.tail()"
   ]
  },
  {
   "cell_type": "markdown",
   "id": "9c9ef7db",
   "metadata": {},
   "source": [
    "##### Show shape of df"
   ]
  },
  {
   "cell_type": "code",
   "execution_count": 63,
   "id": "e9d19c7a",
   "metadata": {},
   "outputs": [
    {
     "data": {
      "text/plain": [
       "(56, 8)"
      ]
     },
     "execution_count": 63,
     "metadata": {},
     "output_type": "execute_result"
    }
   ],
   "source": [
    "df.shape"
   ]
  },
  {
   "cell_type": "markdown",
   "id": "29b6bcdb",
   "metadata": {},
   "source": [
    "##### Show descriptive statistics of df"
   ]
  },
  {
   "cell_type": "code",
   "execution_count": 64,
   "id": "033ecb1b",
   "metadata": {},
   "outputs": [
    {
     "data": {
      "text/html": [
       "<div>\n",
       "<style scoped>\n",
       "    .dataframe tbody tr th:only-of-type {\n",
       "        vertical-align: middle;\n",
       "    }\n",
       "\n",
       "    .dataframe tbody tr th {\n",
       "        vertical-align: top;\n",
       "    }\n",
       "\n",
       "    .dataframe thead th {\n",
       "        text-align: right;\n",
       "    }\n",
       "</style>\n",
       "<table border=\"1\" class=\"dataframe\">\n",
       "  <thead>\n",
       "    <tr style=\"text-align: right;\">\n",
       "      <th></th>\n",
       "      <th>avail_seat_km_per_week</th>\n",
       "      <th>incidents_85_99</th>\n",
       "      <th>fatal_accidents_85_99</th>\n",
       "      <th>fatalities_85_99</th>\n",
       "      <th>incidents_00_14</th>\n",
       "      <th>fatal_accidents_00_14</th>\n",
       "      <th>fatalities_00_14</th>\n",
       "    </tr>\n",
       "  </thead>\n",
       "  <tbody>\n",
       "    <tr>\n",
       "      <th>count</th>\n",
       "      <td>5.600000e+01</td>\n",
       "      <td>56.000000</td>\n",
       "      <td>56.000000</td>\n",
       "      <td>56.000000</td>\n",
       "      <td>56.000000</td>\n",
       "      <td>56.000000</td>\n",
       "      <td>56.000000</td>\n",
       "    </tr>\n",
       "    <tr>\n",
       "      <th>mean</th>\n",
       "      <td>1.384621e+09</td>\n",
       "      <td>7.178571</td>\n",
       "      <td>2.178571</td>\n",
       "      <td>112.410714</td>\n",
       "      <td>4.125000</td>\n",
       "      <td>0.660714</td>\n",
       "      <td>55.517857</td>\n",
       "    </tr>\n",
       "    <tr>\n",
       "      <th>std</th>\n",
       "      <td>1.465317e+09</td>\n",
       "      <td>11.035656</td>\n",
       "      <td>2.861069</td>\n",
       "      <td>146.691114</td>\n",
       "      <td>4.544977</td>\n",
       "      <td>0.858684</td>\n",
       "      <td>111.332751</td>\n",
       "    </tr>\n",
       "    <tr>\n",
       "      <th>min</th>\n",
       "      <td>2.593733e+08</td>\n",
       "      <td>0.000000</td>\n",
       "      <td>0.000000</td>\n",
       "      <td>0.000000</td>\n",
       "      <td>0.000000</td>\n",
       "      <td>0.000000</td>\n",
       "      <td>0.000000</td>\n",
       "    </tr>\n",
       "    <tr>\n",
       "      <th>25%</th>\n",
       "      <td>4.740362e+08</td>\n",
       "      <td>2.000000</td>\n",
       "      <td>0.000000</td>\n",
       "      <td>0.000000</td>\n",
       "      <td>1.000000</td>\n",
       "      <td>0.000000</td>\n",
       "      <td>0.000000</td>\n",
       "    </tr>\n",
       "    <tr>\n",
       "      <th>50%</th>\n",
       "      <td>8.029089e+08</td>\n",
       "      <td>4.000000</td>\n",
       "      <td>1.000000</td>\n",
       "      <td>48.500000</td>\n",
       "      <td>3.000000</td>\n",
       "      <td>0.000000</td>\n",
       "      <td>0.000000</td>\n",
       "    </tr>\n",
       "    <tr>\n",
       "      <th>75%</th>\n",
       "      <td>1.847239e+09</td>\n",
       "      <td>8.000000</td>\n",
       "      <td>3.000000</td>\n",
       "      <td>184.250000</td>\n",
       "      <td>5.250000</td>\n",
       "      <td>1.000000</td>\n",
       "      <td>83.250000</td>\n",
       "    </tr>\n",
       "    <tr>\n",
       "      <th>max</th>\n",
       "      <td>7.139291e+09</td>\n",
       "      <td>76.000000</td>\n",
       "      <td>14.000000</td>\n",
       "      <td>535.000000</td>\n",
       "      <td>24.000000</td>\n",
       "      <td>3.000000</td>\n",
       "      <td>537.000000</td>\n",
       "    </tr>\n",
       "  </tbody>\n",
       "</table>\n",
       "</div>"
      ],
      "text/plain": [
       "       avail_seat_km_per_week  incidents_85_99  fatal_accidents_85_99  \\\n",
       "count            5.600000e+01        56.000000              56.000000   \n",
       "mean             1.384621e+09         7.178571               2.178571   \n",
       "std              1.465317e+09        11.035656               2.861069   \n",
       "min              2.593733e+08         0.000000               0.000000   \n",
       "25%              4.740362e+08         2.000000               0.000000   \n",
       "50%              8.029089e+08         4.000000               1.000000   \n",
       "75%              1.847239e+09         8.000000               3.000000   \n",
       "max              7.139291e+09        76.000000              14.000000   \n",
       "\n",
       "       fatalities_85_99  incidents_00_14  fatal_accidents_00_14  \\\n",
       "count         56.000000        56.000000              56.000000   \n",
       "mean         112.410714         4.125000               0.660714   \n",
       "std          146.691114         4.544977               0.858684   \n",
       "min            0.000000         0.000000               0.000000   \n",
       "25%            0.000000         1.000000               0.000000   \n",
       "50%           48.500000         3.000000               0.000000   \n",
       "75%          184.250000         5.250000               1.000000   \n",
       "max          535.000000        24.000000               3.000000   \n",
       "\n",
       "       fatalities_00_14  \n",
       "count         56.000000  \n",
       "mean          55.517857  \n",
       "std          111.332751  \n",
       "min            0.000000  \n",
       "25%            0.000000  \n",
       "50%            0.000000  \n",
       "75%           83.250000  \n",
       "max          537.000000  "
      ]
     },
     "execution_count": 64,
     "metadata": {},
     "output_type": "execute_result"
    }
   ],
   "source": [
    "df.describe()"
   ]
  },
  {
   "cell_type": "markdown",
   "id": "d803e81a",
   "metadata": {},
   "source": [
    "#### Show df column informations"
   ]
  },
  {
   "cell_type": "code",
   "execution_count": 72,
   "id": "c5718945",
   "metadata": {},
   "outputs": [
    {
     "name": "stdout",
     "output_type": "stream",
     "text": [
      "<class 'pandas.core.frame.DataFrame'>\n",
      "RangeIndex: 56 entries, 0 to 55\n",
      "Data columns (total 8 columns):\n",
      " #   Column                  Non-Null Count  Dtype \n",
      "---  ------                  --------------  ----- \n",
      " 0   airline                 56 non-null     object\n",
      " 1   avail_seat_km_per_week  56 non-null     int64 \n",
      " 2   incidents_85_99         56 non-null     int64 \n",
      " 3   fatal_accidents_85_99   56 non-null     int64 \n",
      " 4   fatalities_85_99        56 non-null     int64 \n",
      " 5   incidents_00_14         56 non-null     int64 \n",
      " 6   fatal_accidents_00_14   56 non-null     int64 \n",
      " 7   fatalities_00_14        56 non-null     int64 \n",
      "dtypes: int64(7), object(1)\n",
      "memory usage: 3.6+ KB\n"
     ]
    }
   ],
   "source": [
    "df.info()"
   ]
  },
  {
   "cell_type": "markdown",
   "id": "59dc697a",
   "metadata": {},
   "source": [
    "#### Select companies and incidents_85_99 with incidents_85_99 is less than 10"
   ]
  },
  {
   "cell_type": "code",
   "execution_count": 66,
   "id": "47d08436",
   "metadata": {
    "scrolled": true
   },
   "outputs": [
    {
     "data": {
      "text/html": [
       "<div>\n",
       "<style scoped>\n",
       "    .dataframe tbody tr th:only-of-type {\n",
       "        vertical-align: middle;\n",
       "    }\n",
       "\n",
       "    .dataframe tbody tr th {\n",
       "        vertical-align: top;\n",
       "    }\n",
       "\n",
       "    .dataframe thead th {\n",
       "        text-align: right;\n",
       "    }\n",
       "</style>\n",
       "<table border=\"1\" class=\"dataframe\">\n",
       "  <thead>\n",
       "    <tr style=\"text-align: right;\">\n",
       "      <th></th>\n",
       "      <th>airline</th>\n",
       "      <th>incidents_85_99</th>\n",
       "    </tr>\n",
       "  </thead>\n",
       "  <tbody>\n",
       "    <tr>\n",
       "      <th>0</th>\n",
       "      <td>Aer Lingus</td>\n",
       "      <td>2</td>\n",
       "    </tr>\n",
       "    <tr>\n",
       "      <th>2</th>\n",
       "      <td>Aerolineas Argentinas</td>\n",
       "      <td>6</td>\n",
       "    </tr>\n",
       "    <tr>\n",
       "      <th>3</th>\n",
       "      <td>Aeromexico*</td>\n",
       "      <td>3</td>\n",
       "    </tr>\n",
       "    <tr>\n",
       "      <th>4</th>\n",
       "      <td>Air Canada</td>\n",
       "      <td>2</td>\n",
       "    </tr>\n",
       "    <tr>\n",
       "      <th>6</th>\n",
       "      <td>Air India*</td>\n",
       "      <td>2</td>\n",
       "    </tr>\n",
       "    <tr>\n",
       "      <th>7</th>\n",
       "      <td>Air New Zealand*</td>\n",
       "      <td>3</td>\n",
       "    </tr>\n",
       "    <tr>\n",
       "      <th>8</th>\n",
       "      <td>Alaska Airlines*</td>\n",
       "      <td>5</td>\n",
       "    </tr>\n",
       "    <tr>\n",
       "      <th>9</th>\n",
       "      <td>Alitalia</td>\n",
       "      <td>7</td>\n",
       "    </tr>\n",
       "    <tr>\n",
       "      <th>10</th>\n",
       "      <td>All Nippon Airways</td>\n",
       "      <td>3</td>\n",
       "    </tr>\n",
       "    <tr>\n",
       "      <th>12</th>\n",
       "      <td>Austrian Airlines</td>\n",
       "      <td>1</td>\n",
       "    </tr>\n",
       "    <tr>\n",
       "      <th>13</th>\n",
       "      <td>Avianca</td>\n",
       "      <td>5</td>\n",
       "    </tr>\n",
       "    <tr>\n",
       "      <th>14</th>\n",
       "      <td>British Airways*</td>\n",
       "      <td>4</td>\n",
       "    </tr>\n",
       "    <tr>\n",
       "      <th>15</th>\n",
       "      <td>Cathay Pacific*</td>\n",
       "      <td>0</td>\n",
       "    </tr>\n",
       "    <tr>\n",
       "      <th>17</th>\n",
       "      <td>Condor</td>\n",
       "      <td>2</td>\n",
       "    </tr>\n",
       "    <tr>\n",
       "      <th>18</th>\n",
       "      <td>COPA</td>\n",
       "      <td>3</td>\n",
       "    </tr>\n",
       "    <tr>\n",
       "      <th>20</th>\n",
       "      <td>Egyptair</td>\n",
       "      <td>8</td>\n",
       "    </tr>\n",
       "    <tr>\n",
       "      <th>21</th>\n",
       "      <td>El Al</td>\n",
       "      <td>1</td>\n",
       "    </tr>\n",
       "    <tr>\n",
       "      <th>23</th>\n",
       "      <td>Finnair</td>\n",
       "      <td>1</td>\n",
       "    </tr>\n",
       "    <tr>\n",
       "      <th>25</th>\n",
       "      <td>Gulf Air</td>\n",
       "      <td>1</td>\n",
       "    </tr>\n",
       "    <tr>\n",
       "      <th>26</th>\n",
       "      <td>Hawaiian Airlines</td>\n",
       "      <td>0</td>\n",
       "    </tr>\n",
       "    <tr>\n",
       "      <th>27</th>\n",
       "      <td>Iberia</td>\n",
       "      <td>4</td>\n",
       "    </tr>\n",
       "    <tr>\n",
       "      <th>28</th>\n",
       "      <td>Japan Airlines</td>\n",
       "      <td>3</td>\n",
       "    </tr>\n",
       "    <tr>\n",
       "      <th>29</th>\n",
       "      <td>Kenya Airways</td>\n",
       "      <td>2</td>\n",
       "    </tr>\n",
       "    <tr>\n",
       "      <th>30</th>\n",
       "      <td>KLM*</td>\n",
       "      <td>7</td>\n",
       "    </tr>\n",
       "    <tr>\n",
       "      <th>32</th>\n",
       "      <td>LAN Airlines</td>\n",
       "      <td>3</td>\n",
       "    </tr>\n",
       "    <tr>\n",
       "      <th>33</th>\n",
       "      <td>Lufthansa*</td>\n",
       "      <td>6</td>\n",
       "    </tr>\n",
       "    <tr>\n",
       "      <th>34</th>\n",
       "      <td>Malaysia Airlines</td>\n",
       "      <td>3</td>\n",
       "    </tr>\n",
       "    <tr>\n",
       "      <th>35</th>\n",
       "      <td>Pakistan International</td>\n",
       "      <td>8</td>\n",
       "    </tr>\n",
       "    <tr>\n",
       "      <th>36</th>\n",
       "      <td>Philippine Airlines</td>\n",
       "      <td>7</td>\n",
       "    </tr>\n",
       "    <tr>\n",
       "      <th>37</th>\n",
       "      <td>Qantas*</td>\n",
       "      <td>1</td>\n",
       "    </tr>\n",
       "    <tr>\n",
       "      <th>38</th>\n",
       "      <td>Royal Air Maroc</td>\n",
       "      <td>5</td>\n",
       "    </tr>\n",
       "    <tr>\n",
       "      <th>39</th>\n",
       "      <td>SAS*</td>\n",
       "      <td>5</td>\n",
       "    </tr>\n",
       "    <tr>\n",
       "      <th>40</th>\n",
       "      <td>Saudi Arabian</td>\n",
       "      <td>7</td>\n",
       "    </tr>\n",
       "    <tr>\n",
       "      <th>41</th>\n",
       "      <td>Singapore Airlines</td>\n",
       "      <td>2</td>\n",
       "    </tr>\n",
       "    <tr>\n",
       "      <th>42</th>\n",
       "      <td>South African</td>\n",
       "      <td>2</td>\n",
       "    </tr>\n",
       "    <tr>\n",
       "      <th>43</th>\n",
       "      <td>Southwest Airlines</td>\n",
       "      <td>1</td>\n",
       "    </tr>\n",
       "    <tr>\n",
       "      <th>44</th>\n",
       "      <td>Sri Lankan / AirLanka</td>\n",
       "      <td>2</td>\n",
       "    </tr>\n",
       "    <tr>\n",
       "      <th>45</th>\n",
       "      <td>SWISS*</td>\n",
       "      <td>2</td>\n",
       "    </tr>\n",
       "    <tr>\n",
       "      <th>46</th>\n",
       "      <td>TACA</td>\n",
       "      <td>3</td>\n",
       "    </tr>\n",
       "    <tr>\n",
       "      <th>47</th>\n",
       "      <td>TAM</td>\n",
       "      <td>8</td>\n",
       "    </tr>\n",
       "    <tr>\n",
       "      <th>48</th>\n",
       "      <td>TAP - Air Portugal</td>\n",
       "      <td>0</td>\n",
       "    </tr>\n",
       "    <tr>\n",
       "      <th>49</th>\n",
       "      <td>Thai Airways</td>\n",
       "      <td>8</td>\n",
       "    </tr>\n",
       "    <tr>\n",
       "      <th>50</th>\n",
       "      <td>Turkish Airlines</td>\n",
       "      <td>8</td>\n",
       "    </tr>\n",
       "    <tr>\n",
       "      <th>53</th>\n",
       "      <td>Vietnam Airlines</td>\n",
       "      <td>7</td>\n",
       "    </tr>\n",
       "    <tr>\n",
       "      <th>54</th>\n",
       "      <td>Virgin Atlantic</td>\n",
       "      <td>1</td>\n",
       "    </tr>\n",
       "    <tr>\n",
       "      <th>55</th>\n",
       "      <td>Xiamen Airlines</td>\n",
       "      <td>9</td>\n",
       "    </tr>\n",
       "  </tbody>\n",
       "</table>\n",
       "</div>"
      ],
      "text/plain": [
       "                   airline  incidents_85_99\n",
       "0               Aer Lingus                2\n",
       "2    Aerolineas Argentinas                6\n",
       "3              Aeromexico*                3\n",
       "4               Air Canada                2\n",
       "6               Air India*                2\n",
       "7         Air New Zealand*                3\n",
       "8         Alaska Airlines*                5\n",
       "9                 Alitalia                7\n",
       "10      All Nippon Airways                3\n",
       "12       Austrian Airlines                1\n",
       "13                 Avianca                5\n",
       "14        British Airways*                4\n",
       "15         Cathay Pacific*                0\n",
       "17                  Condor                2\n",
       "18                    COPA                3\n",
       "20                Egyptair                8\n",
       "21                   El Al                1\n",
       "23                 Finnair                1\n",
       "25                Gulf Air                1\n",
       "26       Hawaiian Airlines                0\n",
       "27                  Iberia                4\n",
       "28          Japan Airlines                3\n",
       "29           Kenya Airways                2\n",
       "30                    KLM*                7\n",
       "32            LAN Airlines                3\n",
       "33              Lufthansa*                6\n",
       "34       Malaysia Airlines                3\n",
       "35  Pakistan International                8\n",
       "36     Philippine Airlines                7\n",
       "37                 Qantas*                1\n",
       "38         Royal Air Maroc                5\n",
       "39                    SAS*                5\n",
       "40           Saudi Arabian                7\n",
       "41      Singapore Airlines                2\n",
       "42           South African                2\n",
       "43      Southwest Airlines                1\n",
       "44   Sri Lankan / AirLanka                2\n",
       "45                  SWISS*                2\n",
       "46                    TACA                3\n",
       "47                     TAM                8\n",
       "48      TAP - Air Portugal                0\n",
       "49            Thai Airways                8\n",
       "50        Turkish Airlines                8\n",
       "53        Vietnam Airlines                7\n",
       "54         Virgin Atlantic                1\n",
       "55         Xiamen Airlines                9"
      ]
     },
     "execution_count": 66,
     "metadata": {},
     "output_type": "execute_result"
    }
   ],
   "source": [
    "df[df[\"incidents_85_99\"]<10][[\"airline\",\"incidents_85_99\"]]"
   ]
  },
  {
   "cell_type": "markdown",
   "id": "e1a4f653",
   "metadata": {},
   "source": [
    "#### Group companies by first letter(lower) and take the mean incidents_85_99 and make it a dataframe again "
   ]
  },
  {
   "cell_type": "code",
   "execution_count": 75,
   "id": "f05c9d19",
   "metadata": {},
   "outputs": [
    {
     "data": {
      "text/html": [
       "<div>\n",
       "<style scoped>\n",
       "    .dataframe tbody tr th:only-of-type {\n",
       "        vertical-align: middle;\n",
       "    }\n",
       "\n",
       "    .dataframe tbody tr th {\n",
       "        vertical-align: top;\n",
       "    }\n",
       "\n",
       "    .dataframe thead th {\n",
       "        text-align: right;\n",
       "    }\n",
       "</style>\n",
       "<table border=\"1\" class=\"dataframe\">\n",
       "  <thead>\n",
       "    <tr style=\"text-align: right;\">\n",
       "      <th></th>\n",
       "      <th>airline_first_letter</th>\n",
       "      <th>incidents_85_99</th>\n",
       "    </tr>\n",
       "  </thead>\n",
       "  <tbody>\n",
       "    <tr>\n",
       "      <th>0</th>\n",
       "      <td>a</td>\n",
       "      <td>10.714286</td>\n",
       "    </tr>\n",
       "    <tr>\n",
       "      <th>1</th>\n",
       "      <td>b</td>\n",
       "      <td>4.000000</td>\n",
       "    </tr>\n",
       "    <tr>\n",
       "      <th>2</th>\n",
       "      <td>c</td>\n",
       "      <td>4.250000</td>\n",
       "    </tr>\n",
       "    <tr>\n",
       "      <th>3</th>\n",
       "      <td>d</td>\n",
       "      <td>24.000000</td>\n",
       "    </tr>\n",
       "    <tr>\n",
       "      <th>4</th>\n",
       "      <td>e</td>\n",
       "      <td>11.333333</td>\n",
       "    </tr>\n",
       "    <tr>\n",
       "      <th>5</th>\n",
       "      <td>f</td>\n",
       "      <td>1.000000</td>\n",
       "    </tr>\n",
       "    <tr>\n",
       "      <th>6</th>\n",
       "      <td>g</td>\n",
       "      <td>5.500000</td>\n",
       "    </tr>\n",
       "    <tr>\n",
       "      <th>7</th>\n",
       "      <td>h</td>\n",
       "      <td>0.000000</td>\n",
       "    </tr>\n",
       "    <tr>\n",
       "      <th>8</th>\n",
       "      <td>i</td>\n",
       "      <td>4.000000</td>\n",
       "    </tr>\n",
       "    <tr>\n",
       "      <th>9</th>\n",
       "      <td>j</td>\n",
       "      <td>3.000000</td>\n",
       "    </tr>\n",
       "    <tr>\n",
       "      <th>10</th>\n",
       "      <td>k</td>\n",
       "      <td>7.000000</td>\n",
       "    </tr>\n",
       "    <tr>\n",
       "      <th>11</th>\n",
       "      <td>l</td>\n",
       "      <td>4.500000</td>\n",
       "    </tr>\n",
       "    <tr>\n",
       "      <th>12</th>\n",
       "      <td>m</td>\n",
       "      <td>3.000000</td>\n",
       "    </tr>\n",
       "    <tr>\n",
       "      <th>13</th>\n",
       "      <td>p</td>\n",
       "      <td>7.500000</td>\n",
       "    </tr>\n",
       "    <tr>\n",
       "      <th>14</th>\n",
       "      <td>q</td>\n",
       "      <td>1.000000</td>\n",
       "    </tr>\n",
       "    <tr>\n",
       "      <th>15</th>\n",
       "      <td>r</td>\n",
       "      <td>5.000000</td>\n",
       "    </tr>\n",
       "    <tr>\n",
       "      <th>16</th>\n",
       "      <td>s</td>\n",
       "      <td>3.000000</td>\n",
       "    </tr>\n",
       "    <tr>\n",
       "      <th>17</th>\n",
       "      <td>t</td>\n",
       "      <td>5.400000</td>\n",
       "    </tr>\n",
       "    <tr>\n",
       "      <th>18</th>\n",
       "      <td>u</td>\n",
       "      <td>17.500000</td>\n",
       "    </tr>\n",
       "    <tr>\n",
       "      <th>19</th>\n",
       "      <td>v</td>\n",
       "      <td>4.000000</td>\n",
       "    </tr>\n",
       "    <tr>\n",
       "      <th>20</th>\n",
       "      <td>x</td>\n",
       "      <td>9.000000</td>\n",
       "    </tr>\n",
       "  </tbody>\n",
       "</table>\n",
       "</div>"
      ],
      "text/plain": [
       "   airline_first_letter  incidents_85_99\n",
       "0                     a        10.714286\n",
       "1                     b         4.000000\n",
       "2                     c         4.250000\n",
       "3                     d        24.000000\n",
       "4                     e        11.333333\n",
       "5                     f         1.000000\n",
       "6                     g         5.500000\n",
       "7                     h         0.000000\n",
       "8                     i         4.000000\n",
       "9                     j         3.000000\n",
       "10                    k         7.000000\n",
       "11                    l         4.500000\n",
       "12                    m         3.000000\n",
       "13                    p         7.500000\n",
       "14                    q         1.000000\n",
       "15                    r         5.000000\n",
       "16                    s         3.000000\n",
       "17                    t         5.400000\n",
       "18                    u        17.500000\n",
       "19                    v         4.000000\n",
       "20                    x         9.000000"
      ]
     },
     "execution_count": 75,
     "metadata": {},
     "output_type": "execute_result"
    }
   ],
   "source": [
    "dflowercase=df.groupby(df[\"airline\"].str[0].str.lower())[\"incidents_85_99\"].mean().reset_index()\n",
    "dflowercase=dflowercase.rename(columns={\"airline\":\"airline_first_letter\"})\n",
    "dflowercase\n"
   ]
  }
 ],
 "metadata": {
  "kernelspec": {
   "display_name": "Python 3 (ipykernel)",
   "language": "python",
   "name": "python3"
  },
  "language_info": {
   "codemirror_mode": {
    "name": "ipython",
    "version": 3
   },
   "file_extension": ".py",
   "mimetype": "text/x-python",
   "name": "python",
   "nbconvert_exporter": "python",
   "pygments_lexer": "ipython3",
   "version": "3.11.4"
  }
 },
 "nbformat": 4,
 "nbformat_minor": 5
}

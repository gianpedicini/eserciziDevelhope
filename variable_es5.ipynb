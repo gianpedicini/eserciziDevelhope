{
 "cells": [
  {
   "attachments": {},
   "cell_type": "markdown",
   "metadata": {},
   "source": [
    "Using string slicing to extract the first and last characters of the user's name.\n",
    "Using string methods to check if the user's name contains any digits.\n",
    "Using the replace() method to replace a specific word in the sentence about the user.\n",
    "Using the split() method to split the sentence about the user into a list of words and print each word on a new line."
   ]
  },
  {
   "cell_type": "code",
   "execution_count": 11,
   "metadata": {},
   "outputs": [
    {
     "name": "stdout",
     "output_type": "stream",
     "text": [
      "G\n"
     ]
    }
   ],
   "source": [
    "user_name=\"Gianluigi\"\n",
    "first_letter=user_name[0]\n",
    "\n",
    "print(first_letter)"
   ]
  },
  {
   "cell_type": "code",
   "execution_count": 12,
   "metadata": {},
   "outputs": [
    {
     "name": "stdout",
     "output_type": "stream",
     "text": [
      "i\n"
     ]
    }
   ],
   "source": [
    "last_letter=user_name[-1]\n",
    "\n",
    "print(last_letter)"
   ]
  },
  {
   "cell_type": "code",
   "execution_count": 18,
   "metadata": {},
   "outputs": [
    {
     "name": "stdout",
     "output_type": "stream",
     "text": [
      "False\n"
     ]
    }
   ],
   "source": [
    "test = any(user_name.isdigit() for elements in user_name) \n",
    "\n",
    "print(test)"
   ]
  },
  {
   "cell_type": "code",
   "execution_count": 19,
   "metadata": {},
   "outputs": [
    {
     "name": "stdout",
     "output_type": "stream",
     "text": [
      "Ho acceso il PC\n"
     ]
    }
   ],
   "source": [
    "frase1=\"Ho acceso il PC\"\n",
    "print(frase1)"
   ]
  },
  {
   "cell_type": "code",
   "execution_count": 20,
   "metadata": {},
   "outputs": [
    {
     "name": "stdout",
     "output_type": "stream",
     "text": [
      "Ho spento il PC\n"
     ]
    }
   ],
   "source": [
    "frase2=frase1.replace(\"acceso\",\"spento\")\n",
    "print(frase2)"
   ]
  },
  {
   "cell_type": "code",
   "execution_count": 22,
   "metadata": {},
   "outputs": [
    {
     "name": "stdout",
     "output_type": "stream",
     "text": [
      "['Ho', 'spento', 'il', 'PC']\n",
      "Ho\n",
      "spento\n",
      "il\n",
      "PC\n"
     ]
    }
   ],
   "source": [
    "split_frase=frase2.split()\n",
    "\n",
    "print(split_frase)\n",
    "\n",
    "for elementi in split_frase:\n",
    "    print(elementi)\n",
    "\n"
   ]
  }
 ],
 "metadata": {
  "kernelspec": {
   "display_name": "Python 3",
   "language": "python",
   "name": "python3"
  },
  "language_info": {
   "codemirror_mode": {
    "name": "ipython",
    "version": 3
   },
   "file_extension": ".py",
   "mimetype": "text/x-python",
   "name": "python",
   "nbconvert_exporter": "python",
   "pygments_lexer": "ipython3",
   "version": "3.11.2"
  },
  "orig_nbformat": 4
 },
 "nbformat": 4,
 "nbformat_minor": 2
}
